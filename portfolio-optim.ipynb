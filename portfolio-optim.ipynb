{
 "cells": [
  {
   "cell_type": "code",
   "id": "initial_id",
   "metadata": {
    "collapsed": true,
    "ExecuteTime": {
     "end_time": "2025-04-05T02:12:33.184431Z",
     "start_time": "2025-04-05T02:12:22.808282Z"
    }
   },
   "source": [
    "import pathlib\n",
    "import numpy as np\n",
    "import pandas as pd\n",
    "import matplotlib.pyplot as plt\n",
    "import scipy.optimize as opt\n",
    "\n",
    "from pprint import  pprint\n",
    "from fake_useragent import  UserAgent\n",
    "from src.data_fetcher.client import  PriceHistory\n",
    "from sklearn.preprocessing import  StandardScaler\n",
    "\n",
    "# Set display options for  pandas\n",
    "pd.set_option('display.max_colwidth', 1)\n",
    "pd.set_option('expand_frame_repr', False)"
   ],
   "outputs": [],
   "execution_count": 1
  },
  {
   "metadata": {},
   "cell_type": "markdown",
   "source": "## Fetching and Loading Data",
   "id": "9de45a156da450df"
  },
  {
   "metadata": {
    "ExecuteTime": {
     "end_time": "2025-04-05T02:12:33.261560Z",
     "start_time": "2025-04-05T02:12:33.184431Z"
    }
   },
   "cell_type": "code",
   "source": [
    "# Define the symbols\n",
    "symbols = ['AAPL', 'MSFT', 'TSLA', 'AMZN']\n",
    "\n",
    "# Grab number of stocks in portfolio\n",
    "number_of_stocks = len(symbols)\n",
    "\n",
    "# If no data is available, grab it from the NASDAQ.\n",
    "if not pathlib.Path('src/data/stock_data.csv').exists():\n",
    "    # Initialize PriceHistory Client\n",
    "    price_history_client = PriceHistory(symbols=symbols, user_agent=UserAgent().chrome)\n",
    "    # Grab and dump data in to a csv file.\n",
    "    price_history_client.price_data_frame.to_csv('src/data/stock_data.csv', index=False)\n",
    "    pprint(price_history_client.price_data_frame)\n",
    "    \n",
    "    # store dataframe in variable\n",
    "    price_df: pd.DataFrame = price_history_client.price_data_frame\n",
    "    \n",
    "else:\n",
    "    # load the existing CSV file\n",
    "    price_df: pd.DataFrame = pd.read_csv('src/data/stock_data.csv')\n",
    "    \n",
    "display(price_df.head())"
   ],
   "id": "967fa6cf6ea683a8",
   "outputs": [
    {
     "data": {
      "text/plain": [
       "         date   close    volume     open    high      low symbol\n",
       "0  2025-04-03  178.41  95553620  182.995  184.13  176.920  AMZN \n",
       "1  2025-04-02  196.01  53679200  187.660  198.34  187.660  AMZN \n",
       "2  2025-04-01  192.17  41267320  187.860  193.93  187.200  AMZN \n",
       "3  2025-03-31  190.26  63547560  188.190  191.33  184.400  AMZN \n",
       "4  2025-03-28  192.72  52548230  198.420  199.26  191.881  AMZN "
      ],
      "text/html": [
       "<div>\n",
       "<style scoped>\n",
       "    .dataframe tbody tr th:only-of-type {\n",
       "        vertical-align: middle;\n",
       "    }\n",
       "\n",
       "    .dataframe tbody tr th {\n",
       "        vertical-align: top;\n",
       "    }\n",
       "\n",
       "    .dataframe thead th {\n",
       "        text-align: right;\n",
       "    }\n",
       "</style>\n",
       "<table border=\"1\" class=\"dataframe\">\n",
       "  <thead>\n",
       "    <tr style=\"text-align: right;\">\n",
       "      <th></th>\n",
       "      <th>date</th>\n",
       "      <th>close</th>\n",
       "      <th>volume</th>\n",
       "      <th>open</th>\n",
       "      <th>high</th>\n",
       "      <th>low</th>\n",
       "      <th>symbol</th>\n",
       "    </tr>\n",
       "  </thead>\n",
       "  <tbody>\n",
       "    <tr>\n",
       "      <th>0</th>\n",
       "      <td>2025-04-03</td>\n",
       "      <td>178.41</td>\n",
       "      <td>95553620</td>\n",
       "      <td>182.995</td>\n",
       "      <td>184.13</td>\n",
       "      <td>176.920</td>\n",
       "      <td>AMZN</td>\n",
       "    </tr>\n",
       "    <tr>\n",
       "      <th>1</th>\n",
       "      <td>2025-04-02</td>\n",
       "      <td>196.01</td>\n",
       "      <td>53679200</td>\n",
       "      <td>187.660</td>\n",
       "      <td>198.34</td>\n",
       "      <td>187.660</td>\n",
       "      <td>AMZN</td>\n",
       "    </tr>\n",
       "    <tr>\n",
       "      <th>2</th>\n",
       "      <td>2025-04-01</td>\n",
       "      <td>192.17</td>\n",
       "      <td>41267320</td>\n",
       "      <td>187.860</td>\n",
       "      <td>193.93</td>\n",
       "      <td>187.200</td>\n",
       "      <td>AMZN</td>\n",
       "    </tr>\n",
       "    <tr>\n",
       "      <th>3</th>\n",
       "      <td>2025-03-31</td>\n",
       "      <td>190.26</td>\n",
       "      <td>63547560</td>\n",
       "      <td>188.190</td>\n",
       "      <td>191.33</td>\n",
       "      <td>184.400</td>\n",
       "      <td>AMZN</td>\n",
       "    </tr>\n",
       "    <tr>\n",
       "      <th>4</th>\n",
       "      <td>2025-03-28</td>\n",
       "      <td>192.72</td>\n",
       "      <td>52548230</td>\n",
       "      <td>198.420</td>\n",
       "      <td>199.26</td>\n",
       "      <td>191.881</td>\n",
       "      <td>AMZN</td>\n",
       "    </tr>\n",
       "  </tbody>\n",
       "</table>\n",
       "</div>"
      ]
     },
     "metadata": {},
     "output_type": "display_data"
    }
   ],
   "execution_count": 2
  },
  {
   "metadata": {
    "ExecuteTime": {
     "end_time": "2025-04-05T02:12:33.339676Z",
     "start_time": "2025-04-05T02:12:33.261560Z"
    }
   },
   "cell_type": "code",
   "source": [
    "# Grab important columns\n",
    "price_df = price_df[['date', 'symbol', 'close']]\n",
    "\n",
    "# Pivot dataframe to make symbols headers\n",
    "price_df = price_df.pivot(index='date', columns='symbol', values='close')\n",
    "\n",
    "display(price_df.head())"
   ],
   "id": "b6ac3d83b35ff6bf",
   "outputs": [
    {
     "data": {
      "text/plain": [
       "symbol        AAPL    AMZN    MSFT    TSLA\n",
       "date                                      \n",
       "2024-10-07  221.69  180.80  409.54  240.83\n",
       "2024-10-08  225.77  182.72  414.71  244.50\n",
       "2024-10-09  229.54  185.17  417.46  241.05\n",
       "2024-10-10  229.04  186.65  415.84  238.77\n",
       "2024-10-11  227.55  188.82  416.32  217.80"
      ],
      "text/html": [
       "<div>\n",
       "<style scoped>\n",
       "    .dataframe tbody tr th:only-of-type {\n",
       "        vertical-align: middle;\n",
       "    }\n",
       "\n",
       "    .dataframe tbody tr th {\n",
       "        vertical-align: top;\n",
       "    }\n",
       "\n",
       "    .dataframe thead th {\n",
       "        text-align: right;\n",
       "    }\n",
       "</style>\n",
       "<table border=\"1\" class=\"dataframe\">\n",
       "  <thead>\n",
       "    <tr style=\"text-align: right;\">\n",
       "      <th>symbol</th>\n",
       "      <th>AAPL</th>\n",
       "      <th>AMZN</th>\n",
       "      <th>MSFT</th>\n",
       "      <th>TSLA</th>\n",
       "    </tr>\n",
       "    <tr>\n",
       "      <th>date</th>\n",
       "      <th></th>\n",
       "      <th></th>\n",
       "      <th></th>\n",
       "      <th></th>\n",
       "    </tr>\n",
       "  </thead>\n",
       "  <tbody>\n",
       "    <tr>\n",
       "      <th>2024-10-07</th>\n",
       "      <td>221.69</td>\n",
       "      <td>180.80</td>\n",
       "      <td>409.54</td>\n",
       "      <td>240.83</td>\n",
       "    </tr>\n",
       "    <tr>\n",
       "      <th>2024-10-08</th>\n",
       "      <td>225.77</td>\n",
       "      <td>182.72</td>\n",
       "      <td>414.71</td>\n",
       "      <td>244.50</td>\n",
       "    </tr>\n",
       "    <tr>\n",
       "      <th>2024-10-09</th>\n",
       "      <td>229.54</td>\n",
       "      <td>185.17</td>\n",
       "      <td>417.46</td>\n",
       "      <td>241.05</td>\n",
       "    </tr>\n",
       "    <tr>\n",
       "      <th>2024-10-10</th>\n",
       "      <td>229.04</td>\n",
       "      <td>186.65</td>\n",
       "      <td>415.84</td>\n",
       "      <td>238.77</td>\n",
       "    </tr>\n",
       "    <tr>\n",
       "      <th>2024-10-11</th>\n",
       "      <td>227.55</td>\n",
       "      <td>188.82</td>\n",
       "      <td>416.32</td>\n",
       "      <td>217.80</td>\n",
       "    </tr>\n",
       "  </tbody>\n",
       "</table>\n",
       "</div>"
      ]
     },
     "metadata": {},
     "output_type": "display_data"
    }
   ],
   "execution_count": 3
  },
  {
   "metadata": {},
   "cell_type": "markdown",
   "source": "## Calculating Sharpe Ratio and Other Metrics",
   "id": "6645a214ac37e242"
  },
  {
   "metadata": {
    "ExecuteTime": {
     "end_time": "2025-04-05T02:12:33.375021Z",
     "start_time": "2025-04-05T02:12:33.341196Z"
    }
   },
   "cell_type": "code",
   "source": [
    "# Calculate log returns\n",
    "log_return = np.log(1 + price_df.pct_change())\n",
    "\n",
    "# Generate random weights and rebalance so that they sum up to 1\n",
    "random_weights = np.array(np.random.random(number_of_stocks))\n",
    "rebalance_weights = random_weights / np.sum(random_weights)\n",
    "\n",
    "# Calculate expected returns annualized\n",
    "exp_ret = np.dot(log_return.mean(), rebalance_weights) * 252\n",
    "\n",
    "# Calculate expected volatility annualized\n",
    "exp_vol  = np.sqrt(\n",
    "    np.dot(rebalance_weights.T, np.dot(log_return.cov() * 252, rebalance_weights))\n",
    ")\n",
    "# Calculate Sharpe Ratio.\n",
    "sharpe_ratio = (exp_ret - .02)/ exp_vol"
   ],
   "id": "df528c8a9912879e",
   "outputs": [],
   "execution_count": 4
  },
  {
   "metadata": {
    "ExecuteTime": {
     "end_time": "2025-04-05T02:12:33.417458Z",
     "start_time": "2025-04-05T02:12:33.383048Z"
    }
   },
   "cell_type": "code",
   "source": [
    "weights_df = pd.DataFrame(data={\n",
    "    'random_weights':random_weights,\n",
    "    'rebalance_weights':rebalance_weights\n",
    "})\n",
    "print('')\n",
    "print('='*80)\n",
    "print('PORTFOLIO WEIGHTS:')\n",
    "print(weights_df)\n",
    "print('-'*80)\n",
    "\n",
    "metrics_df = pd.DataFrame(data={\n",
    "    'Expected Portfolio Return': exp_ret,\n",
    "    'Expected Portfolio Volatility': exp_vol,\n",
    "    'Portfolio Sharpe Ratio': sharpe_ratio\n",
    "}, index=[0])\n",
    "print('')\n",
    "print('='*80)\n",
    "print('PORTFOLIO METRICS:')\n",
    "print(metrics_df)\n",
    "print('-'*80)\n"
   ],
   "id": "4279681a6a5d424d",
   "outputs": [
    {
     "name": "stdout",
     "output_type": "stream",
     "text": [
      "\n",
      "================================================================================\n",
      "PORTFOLIO WEIGHTS:\n",
      "   random_weights  rebalance_weights\n",
      "0  0.480633        0.234154         \n",
      "1  0.174341        0.084935         \n",
      "2  0.734618        0.357890         \n",
      "3  0.663044        0.323021         \n",
      "--------------------------------------------------------------------------------\n",
      "\n",
      "================================================================================\n",
      "PORTFOLIO METRICS:\n",
      "   Expected Portfolio Return  Expected Portfolio Volatility  Portfolio Sharpe Ratio\n",
      "0 -0.043821                   0.338742                      -0.188406              \n",
      "--------------------------------------------------------------------------------\n"
     ]
    }
   ],
   "execution_count": 5
  },
  {
   "metadata": {},
   "cell_type": "markdown",
   "source": "## Monte Carlo Simulation",
   "id": "d20d5c49db0a1c76"
  },
  {
   "metadata": {
    "ExecuteTime": {
     "end_time": "2025-04-05T02:21:02.988345Z",
     "start_time": "2025-04-05T02:20:53.305997Z"
    }
   },
   "cell_type": "code",
   "source": [
    "# Number of simulations\n",
    "num_of_simulations = 3000\n",
    "\n",
    "all_weights = np.zeros((num_of_simulations, number_of_stocks))\n",
    "\n",
    "return_arr = np.zeros(num_of_simulations)\n",
    "\n",
    "vol_arr = np.zeros(num_of_simulations)\n",
    "\n",
    "sharpe_arr = np.zeros(num_of_simulations)\n",
    "\n",
    "for idx in range(num_of_simulations):\n",
    "    weights = np.array(np.random.random(number_of_stocks))\n",
    "    weights = weights / np.sum(weights)\n",
    "    \n",
    "    all_weights[idx,:] = weights\n",
    "    \n",
    "    return_arr[idx] = np.dot(log_return.mean(), weights) * 252\n",
    "    \n",
    "    vol_arr[idx] = np.sqrt(np.dot(weights.T, np.dot(log_return.cov() * 252, weights)))\n",
    "    \n",
    "    sharpe_arr[idx] = (return_arr[idx] -.01) / vol_arr[idx]\n",
    "    \n",
    "simulations_data = [return_arr, vol_arr, sharpe_arr, all_weights]\n",
    "\n",
    "simulations_df = pd.DataFrame(data=simulations_data).T\n",
    "simulations_df.columns = ['Returns','Volatility', 'Sharpe Ratio', 'Portfolio Weights']\n",
    "\n",
    "simulations_df = simulations_df.infer_objects()\n",
    "\n",
    "print('')\n",
    "print('='*80)\n",
    "print('SIMULATIONS DATA:')\n",
    "print('='*80)\n",
    "print(simulations_df.head())\n",
    "print('-'*80)"
   ],
   "id": "aa6f35a97e14e79d",
   "outputs": [
    {
     "name": "stdout",
     "output_type": "stream",
     "text": [
      "\n",
      "================================================================================\n",
      "SIMULATIONS DATA:\n",
      "================================================================================\n",
      "    Returns  Volatility  Sharpe Ratio                                                                     Portfolio Weights\n",
      "0 -0.016455  0.355272   -0.074465      [0.28384617756198643, 0.21283031903289573, 0.16643869824379148, 0.33688480516132635]\n",
      "1 -0.016599  0.369909   -0.071907      [0.2406114847103043, 0.11756920042362036, 0.26542512952322567, 0.3763941853428498]  \n",
      "2 -0.120950  0.251077   -0.521553      [0.5446276103426941, 0.16324219356894235, 0.19945812006854002, 0.09267207601982341] \n",
      "3 -0.032321  0.327402   -0.129262      [0.07804695256795957, 0.3044691701437888, 0.35031217538849374, 0.2671717018997579]  \n",
      "4  0.010914  0.421405    0.002170      [0.3215395336299162, 0.04381798288756706, 0.16338977114668077, 0.471252712335836]   \n",
      "--------------------------------------------------------------------------------\n"
     ]
    }
   ],
   "execution_count": 7
  },
  {
   "metadata": {},
   "cell_type": "markdown",
   "source": "## Grab Most Important metrics",
   "id": "55ea552f440c29b5"
  },
  {
   "metadata": {
    "ExecuteTime": {
     "end_time": "2025-04-05T02:30:18.436671Z",
     "start_time": "2025-04-05T02:30:18.206242Z"
    }
   },
   "cell_type": "code",
   "source": [
    "# Grab max sharpe ratio\n",
    "max_sharpe_ratio = simulations_df.loc[simulations_df['Sharpe Ratio'].idxmax()]\n",
    "\n",
    "# Get min volatility\n",
    "min_volatility = simulations_df.loc[simulations_df['Volatility'].idxmin()]\n",
    "\n",
    "print('')\n",
    "print('='*80)\n",
    "print('MAX SHARPE RATIO:')\n",
    "print('-'*80)\n",
    "print(max_sharpe_ratio)\n",
    "print('-'*80)\n",
    "\n",
    "print('')\n",
    "print('='*80)\n",
    "print('MIN VOLATILITY:')\n",
    "print('-'*80)\n",
    "print(min_volatility)\n",
    "print('-'*80)"
   ],
   "id": "cab1e5167d42ddca",
   "outputs": [
    {
     "name": "stdout",
     "output_type": "stream",
     "text": [
      "\n",
      "================================================================================\n",
      "MAX SHARPE RATIO:\n",
      "--------------------------------------------------------------------------------\n",
      "Returns              0.182239                                                                            \n",
      "Volatility           0.698367                                                                            \n",
      "Sharpe Ratio         0.246631                                                                            \n",
      "Portfolio Weights    [0.0272445775606744, 0.008425521652016538, 0.049529386209302174, 0.9148005145780069]\n",
      "Name: 2755, dtype: object\n",
      "--------------------------------------------------------------------------------\n",
      "\n",
      "================================================================================\n",
      "MIN VOLATILITY:\n",
      "--------------------------------------------------------------------------------\n",
      "Returns             -0.179434                                                                            \n",
      "Volatility           0.21809                                                                             \n",
      "Sharpe Ratio        -0.868601                                                                            \n",
      "Portfolio Weights    [0.38432625907781576, 0.03431873847154141, 0.5750851165833243, 0.006269885867318679]\n",
      "Name: 1934, dtype: object\n",
      "--------------------------------------------------------------------------------\n"
     ]
    }
   ],
   "execution_count": 8
  },
  {
   "metadata": {},
   "cell_type": "code",
   "outputs": [],
   "execution_count": null,
   "source": "",
   "id": "7e5a5cac3112b14f"
  }
 ],
 "metadata": {
  "kernelspec": {
   "display_name": "Python 3",
   "language": "python",
   "name": "python3"
  },
  "language_info": {
   "codemirror_mode": {
    "name": "ipython",
    "version": 2
   },
   "file_extension": ".py",
   "mimetype": "text/x-python",
   "name": "python",
   "nbconvert_exporter": "python",
   "pygments_lexer": "ipython2",
   "version": "2.7.6"
  }
 },
 "nbformat": 4,
 "nbformat_minor": 5
}
