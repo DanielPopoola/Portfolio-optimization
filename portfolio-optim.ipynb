{
 "cells": [
  {
   "cell_type": "code",
   "id": "initial_id",
   "metadata": {
    "collapsed": true,
    "ExecuteTime": {
     "end_time": "2025-04-05T02:39:40.609041Z",
     "start_time": "2025-04-05T02:39:34.192411Z"
    }
   },
   "source": [
    "import pathlib\n",
    "import numpy as np\n",
    "import pandas as pd\n",
    "import matplotlib.pyplot as plt\n",
    "import scipy.optimize as opt\n",
    "\n",
    "from pprint import  pprint\n",
    "from fake_useragent import  UserAgent\n",
    "from src.data_fetcher.client import  PriceHistory\n",
    "from sklearn.preprocessing import  StandardScaler\n",
    "\n",
    "# Set display options for  pandas\n",
    "pd.set_option('display.max_colwidth', 1)\n",
    "pd.set_option('expand_frame_repr', False)"
   ],
   "outputs": [],
   "execution_count": 1
  },
  {
   "metadata": {},
   "cell_type": "markdown",
   "source": "## Fetching and Loading Data",
   "id": "9de45a156da450df"
  },
  {
   "metadata": {
    "ExecuteTime": {
     "end_time": "2025-04-05T02:39:40.664940Z",
     "start_time": "2025-04-05T02:39:40.614054Z"
    }
   },
   "cell_type": "code",
   "source": [
    "# Define the symbols\n",
    "symbols = ['AAPL', 'MSFT', 'TSLA', 'AMZN']\n",
    "\n",
    "# Grab number of stocks in portfolio\n",
    "number_of_stocks = len(symbols)\n",
    "\n",
    "# If no data is available, grab it from the NASDAQ.\n",
    "if not pathlib.Path('src/data/stock_data.csv').exists():\n",
    "    # Initialize PriceHistory Client\n",
    "    price_history_client = PriceHistory(symbols=symbols, user_agent=UserAgent().chrome)\n",
    "    # Grab and dump data in to a csv file.\n",
    "    price_history_client.price_data_frame.to_csv('src/data/stock_data.csv', index=False)\n",
    "    pprint(price_history_client.price_data_frame)\n",
    "    \n",
    "    # store dataframe in variable\n",
    "    price_df: pd.DataFrame = price_history_client.price_data_frame\n",
    "    \n",
    "else:\n",
    "    # load the existing CSV file\n",
    "    price_df: pd.DataFrame = pd.read_csv('src/data/stock_data.csv')\n",
    "    \n",
    "display(price_df.head())"
   ],
   "id": "967fa6cf6ea683a8",
   "outputs": [
    {
     "data": {
      "text/plain": [
       "         date   close    volume     open    high      low symbol\n",
       "0  2025-04-03  178.41  95553620  182.995  184.13  176.920  AMZN \n",
       "1  2025-04-02  196.01  53679200  187.660  198.34  187.660  AMZN \n",
       "2  2025-04-01  192.17  41267320  187.860  193.93  187.200  AMZN \n",
       "3  2025-03-31  190.26  63547560  188.190  191.33  184.400  AMZN \n",
       "4  2025-03-28  192.72  52548230  198.420  199.26  191.881  AMZN "
      ],
      "text/html": [
       "<div>\n",
       "<style scoped>\n",
       "    .dataframe tbody tr th:only-of-type {\n",
       "        vertical-align: middle;\n",
       "    }\n",
       "\n",
       "    .dataframe tbody tr th {\n",
       "        vertical-align: top;\n",
       "    }\n",
       "\n",
       "    .dataframe thead th {\n",
       "        text-align: right;\n",
       "    }\n",
       "</style>\n",
       "<table border=\"1\" class=\"dataframe\">\n",
       "  <thead>\n",
       "    <tr style=\"text-align: right;\">\n",
       "      <th></th>\n",
       "      <th>date</th>\n",
       "      <th>close</th>\n",
       "      <th>volume</th>\n",
       "      <th>open</th>\n",
       "      <th>high</th>\n",
       "      <th>low</th>\n",
       "      <th>symbol</th>\n",
       "    </tr>\n",
       "  </thead>\n",
       "  <tbody>\n",
       "    <tr>\n",
       "      <th>0</th>\n",
       "      <td>2025-04-03</td>\n",
       "      <td>178.41</td>\n",
       "      <td>95553620</td>\n",
       "      <td>182.995</td>\n",
       "      <td>184.13</td>\n",
       "      <td>176.920</td>\n",
       "      <td>AMZN</td>\n",
       "    </tr>\n",
       "    <tr>\n",
       "      <th>1</th>\n",
       "      <td>2025-04-02</td>\n",
       "      <td>196.01</td>\n",
       "      <td>53679200</td>\n",
       "      <td>187.660</td>\n",
       "      <td>198.34</td>\n",
       "      <td>187.660</td>\n",
       "      <td>AMZN</td>\n",
       "    </tr>\n",
       "    <tr>\n",
       "      <th>2</th>\n",
       "      <td>2025-04-01</td>\n",
       "      <td>192.17</td>\n",
       "      <td>41267320</td>\n",
       "      <td>187.860</td>\n",
       "      <td>193.93</td>\n",
       "      <td>187.200</td>\n",
       "      <td>AMZN</td>\n",
       "    </tr>\n",
       "    <tr>\n",
       "      <th>3</th>\n",
       "      <td>2025-03-31</td>\n",
       "      <td>190.26</td>\n",
       "      <td>63547560</td>\n",
       "      <td>188.190</td>\n",
       "      <td>191.33</td>\n",
       "      <td>184.400</td>\n",
       "      <td>AMZN</td>\n",
       "    </tr>\n",
       "    <tr>\n",
       "      <th>4</th>\n",
       "      <td>2025-03-28</td>\n",
       "      <td>192.72</td>\n",
       "      <td>52548230</td>\n",
       "      <td>198.420</td>\n",
       "      <td>199.26</td>\n",
       "      <td>191.881</td>\n",
       "      <td>AMZN</td>\n",
       "    </tr>\n",
       "  </tbody>\n",
       "</table>\n",
       "</div>"
      ]
     },
     "metadata": {},
     "output_type": "display_data"
    }
   ],
   "execution_count": 2
  },
  {
   "metadata": {
    "ExecuteTime": {
     "end_time": "2025-04-05T02:39:40.707737Z",
     "start_time": "2025-04-05T02:39:40.668938Z"
    }
   },
   "cell_type": "code",
   "source": [
    "# Grab important columns\n",
    "price_df = price_df[['date', 'symbol', 'close']]\n",
    "\n",
    "# Pivot dataframe to make symbols headers\n",
    "price_df = price_df.pivot(index='date', columns='symbol', values='close')\n",
    "\n",
    "display(price_df.head())"
   ],
   "id": "b6ac3d83b35ff6bf",
   "outputs": [
    {
     "data": {
      "text/plain": [
       "symbol        AAPL    AMZN    MSFT    TSLA\n",
       "date                                      \n",
       "2024-10-07  221.69  180.80  409.54  240.83\n",
       "2024-10-08  225.77  182.72  414.71  244.50\n",
       "2024-10-09  229.54  185.17  417.46  241.05\n",
       "2024-10-10  229.04  186.65  415.84  238.77\n",
       "2024-10-11  227.55  188.82  416.32  217.80"
      ],
      "text/html": [
       "<div>\n",
       "<style scoped>\n",
       "    .dataframe tbody tr th:only-of-type {\n",
       "        vertical-align: middle;\n",
       "    }\n",
       "\n",
       "    .dataframe tbody tr th {\n",
       "        vertical-align: top;\n",
       "    }\n",
       "\n",
       "    .dataframe thead th {\n",
       "        text-align: right;\n",
       "    }\n",
       "</style>\n",
       "<table border=\"1\" class=\"dataframe\">\n",
       "  <thead>\n",
       "    <tr style=\"text-align: right;\">\n",
       "      <th>symbol</th>\n",
       "      <th>AAPL</th>\n",
       "      <th>AMZN</th>\n",
       "      <th>MSFT</th>\n",
       "      <th>TSLA</th>\n",
       "    </tr>\n",
       "    <tr>\n",
       "      <th>date</th>\n",
       "      <th></th>\n",
       "      <th></th>\n",
       "      <th></th>\n",
       "      <th></th>\n",
       "    </tr>\n",
       "  </thead>\n",
       "  <tbody>\n",
       "    <tr>\n",
       "      <th>2024-10-07</th>\n",
       "      <td>221.69</td>\n",
       "      <td>180.80</td>\n",
       "      <td>409.54</td>\n",
       "      <td>240.83</td>\n",
       "    </tr>\n",
       "    <tr>\n",
       "      <th>2024-10-08</th>\n",
       "      <td>225.77</td>\n",
       "      <td>182.72</td>\n",
       "      <td>414.71</td>\n",
       "      <td>244.50</td>\n",
       "    </tr>\n",
       "    <tr>\n",
       "      <th>2024-10-09</th>\n",
       "      <td>229.54</td>\n",
       "      <td>185.17</td>\n",
       "      <td>417.46</td>\n",
       "      <td>241.05</td>\n",
       "    </tr>\n",
       "    <tr>\n",
       "      <th>2024-10-10</th>\n",
       "      <td>229.04</td>\n",
       "      <td>186.65</td>\n",
       "      <td>415.84</td>\n",
       "      <td>238.77</td>\n",
       "    </tr>\n",
       "    <tr>\n",
       "      <th>2024-10-11</th>\n",
       "      <td>227.55</td>\n",
       "      <td>188.82</td>\n",
       "      <td>416.32</td>\n",
       "      <td>217.80</td>\n",
       "    </tr>\n",
       "  </tbody>\n",
       "</table>\n",
       "</div>"
      ]
     },
     "metadata": {},
     "output_type": "display_data"
    }
   ],
   "execution_count": 3
  },
  {
   "metadata": {},
   "cell_type": "markdown",
   "source": "## Calculating Sharpe Ratio and Other Metrics",
   "id": "6645a214ac37e242"
  },
  {
   "metadata": {
    "ExecuteTime": {
     "end_time": "2025-04-05T02:39:40.735979Z",
     "start_time": "2025-04-05T02:39:40.715759Z"
    }
   },
   "cell_type": "code",
   "source": [
    "# Calculate log returns\n",
    "log_return = np.log(1 + price_df.pct_change())\n",
    "\n",
    "# Generate random weights and rebalance so that they sum up to 1\n",
    "random_weights = np.array(np.random.random(number_of_stocks))\n",
    "rebalance_weights = random_weights / np.sum(random_weights)\n",
    "\n",
    "# Calculate expected returns annualized\n",
    "exp_ret = np.dot(log_return.mean(), rebalance_weights) * 252\n",
    "\n",
    "# Calculate expected volatility annualized\n",
    "exp_vol  = np.sqrt(\n",
    "    np.dot(rebalance_weights.T, np.dot(log_return.cov() * 252, rebalance_weights))\n",
    ")\n",
    "# Calculate Sharpe Ratio.\n",
    "sharpe_ratio = (exp_ret - .02)/ exp_vol"
   ],
   "id": "df528c8a9912879e",
   "outputs": [],
   "execution_count": 4
  },
  {
   "metadata": {
    "ExecuteTime": {
     "end_time": "2025-04-05T02:39:40.758788Z",
     "start_time": "2025-04-05T02:39:40.739994Z"
    }
   },
   "cell_type": "code",
   "source": [
    "weights_df = pd.DataFrame(data={\n",
    "    'random_weights':random_weights,\n",
    "    'rebalance_weights':rebalance_weights\n",
    "})\n",
    "print('')\n",
    "print('='*80)\n",
    "print('PORTFOLIO WEIGHTS:')\n",
    "print(weights_df)\n",
    "print('-'*80)\n",
    "\n",
    "metrics_df = pd.DataFrame(data={\n",
    "    'Expected Portfolio Return': exp_ret,\n",
    "    'Expected Portfolio Volatility': exp_vol,\n",
    "    'Portfolio Sharpe Ratio': sharpe_ratio\n",
    "}, index=[0])\n",
    "print('')\n",
    "print('='*80)\n",
    "print('PORTFOLIO METRICS:')\n",
    "print(metrics_df)\n",
    "print('-'*80)\n"
   ],
   "id": "4279681a6a5d424d",
   "outputs": [
    {
     "name": "stdout",
     "output_type": "stream",
     "text": [
      "\n",
      "================================================================================\n",
      "PORTFOLIO WEIGHTS:\n",
      "   random_weights  rebalance_weights\n",
      "0  0.919927        0.391106         \n",
      "1  0.133768        0.056871         \n",
      "2  0.982743        0.417813         \n",
      "3  0.315676        0.134210         \n",
      "--------------------------------------------------------------------------------\n",
      "\n",
      "================================================================================\n",
      "PORTFOLIO METRICS:\n",
      "   Expected Portfolio Return  Expected Portfolio Volatility  Portfolio Sharpe Ratio\n",
      "0 -0.123471                   0.251715                      -0.569976              \n",
      "--------------------------------------------------------------------------------\n"
     ]
    }
   ],
   "execution_count": 5
  },
  {
   "metadata": {},
   "cell_type": "markdown",
   "source": "## Monte Carlo Simulation",
   "id": "d20d5c49db0a1c76"
  },
  {
   "metadata": {
    "ExecuteTime": {
     "end_time": "2025-04-05T02:39:45.853664Z",
     "start_time": "2025-04-05T02:39:40.763783Z"
    }
   },
   "cell_type": "code",
   "source": [
    "# Number of simulations\n",
    "num_of_simulations = 3000\n",
    "\n",
    "all_weights = np.zeros((num_of_simulations, number_of_stocks))\n",
    "\n",
    "return_arr = np.zeros(num_of_simulations)\n",
    "\n",
    "vol_arr = np.zeros(num_of_simulations)\n",
    "\n",
    "sharpe_arr = np.zeros(num_of_simulations)\n",
    "\n",
    "for idx in range(num_of_simulations):\n",
    "    weights = np.array(np.random.random(number_of_stocks))\n",
    "    weights = weights / np.sum(weights)\n",
    "    \n",
    "    all_weights[idx,:] = weights\n",
    "    \n",
    "    return_arr[idx] = np.dot(log_return.mean(), weights) * 252\n",
    "    \n",
    "    vol_arr[idx] = np.sqrt(np.dot(weights.T, np.dot(log_return.cov() * 252, weights)))\n",
    "    \n",
    "    sharpe_arr[idx] = (return_arr[idx] -.01) / vol_arr[idx]\n",
    "    \n",
    "simulations_data = [return_arr, vol_arr, sharpe_arr, all_weights]\n",
    "\n",
    "simulations_df = pd.DataFrame(data=simulations_data).T\n",
    "simulations_df.columns = ['Returns','Volatility', 'Sharpe Ratio', 'Portfolio Weights']\n",
    "\n",
    "simulations_df = simulations_df.infer_objects()\n",
    "\n",
    "print('')\n",
    "print('='*80)\n",
    "print('SIMULATIONS DATA:')\n",
    "print('='*80)\n",
    "print(simulations_df.head())\n",
    "print('-'*80)"
   ],
   "id": "aa6f35a97e14e79d",
   "outputs": [
    {
     "name": "stdout",
     "output_type": "stream",
     "text": [
      "\n",
      "================================================================================\n",
      "SIMULATIONS DATA:\n",
      "================================================================================\n",
      "    Returns  Volatility  Sharpe Ratio                                                                     Portfolio Weights\n",
      "0 -0.113810  0.247187   -0.500876      [0.4087205528797296, 0.2336143342282283, 0.27180467696716676, 0.0858604359248752]   \n",
      "1 -0.057878  0.299668   -0.226512      [0.39184370935777324, 0.2530915285189246, 0.13937300513615236, 0.2156917569871498]  \n",
      "2 -0.069412  0.281908   -0.281695      [0.3896332390912288, 0.3133533849802515, 0.13392691111507576, 0.163086464813444]    \n",
      "3 -0.006323  0.408202   -0.039986      [0.1041743166474665, 0.0017591501826841268, 0.44144479791534275, 0.4526217352545066]\n",
      "4 -0.060901  0.320667   -0.221105      [0.0940846611633069, 0.09421395582833368, 0.5300561529222758, 0.28164523008608344]  \n",
      "--------------------------------------------------------------------------------\n"
     ]
    }
   ],
   "execution_count": 6
  },
  {
   "metadata": {},
   "cell_type": "markdown",
   "source": "## Grab Most Important metrics",
   "id": "55ea552f440c29b5"
  },
  {
   "metadata": {
    "ExecuteTime": {
     "end_time": "2025-04-05T02:56:18.045629Z",
     "start_time": "2025-04-05T02:56:17.633151Z"
    }
   },
   "cell_type": "code",
   "source": [
    "# Grab max sharpe ratio\n",
    "max_sharpe_ratio = simulations_df.loc[simulations_df['Sharpe Ratio'].idxmax()]\n",
    "\n",
    "# Get min volatility\n",
    "min_volatility = simulations_df.loc[simulations_df['Volatility'].idxmin()]\n",
    "\n",
    "print('')\n",
    "print('='*80)\n",
    "print('MAX SHARPE RATIO:')\n",
    "print('-'*80)\n",
    "print(max_sharpe_ratio)\n",
    "print('-'*80)\n",
    "\n",
    "print('')\n",
    "print('='*80)\n",
    "print('MIN VOLATILITY:')\n",
    "print('-'*80)\n",
    "print(min_volatility)\n",
    "print('-'*80)"
   ],
   "id": "cab1e5167d42ddca",
   "outputs": [
    {
     "name": "stdout",
     "output_type": "stream",
     "text": [
      "\n",
      "================================================================================\n",
      "MAX SHARPE RATIO:\n",
      "--------------------------------------------------------------------------------\n",
      "Returns              0.164772                                                                          \n",
      "Volatility           0.652458                                                                          \n",
      "Sharpe Ratio         0.237213                                                                          \n",
      "Portfolio Weights    [0.014794710112982983, 0.097538310774863, 0.05138809061698427, 0.8362788884951697]\n",
      "Name: 417, dtype: object\n",
      "--------------------------------------------------------------------------------\n",
      "\n",
      "================================================================================\n",
      "MIN VOLATILITY:\n",
      "--------------------------------------------------------------------------------\n",
      "Returns             -0.170654                                                                              \n",
      "Volatility           0.220363                                                                              \n",
      "Sharpe Ratio        -0.819799                                                                              \n",
      "Portfolio Weights    [0.43720405701429305, 0.08963781359157913, 0.46934753910561966, 0.0038105902885082845]\n",
      "Name: 2950, dtype: object\n",
      "--------------------------------------------------------------------------------\n"
     ]
    }
   ],
   "execution_count": 11
  },
  {
   "metadata": {},
   "cell_type": "markdown",
   "source": "## Visualization",
   "id": "bd76c41b3dccdb33"
  },
  {
   "metadata": {
    "ExecuteTime": {
     "end_time": "2025-04-05T02:56:25.391647Z",
     "start_time": "2025-04-05T02:56:24.157645Z"
    }
   },
   "cell_type": "code",
   "source": [
    "%matplotlib inline\n",
    "import warnings\n",
    "warnings.filterwarnings(\"ignore\")\n",
    "\n",
    "# Plot the data on a Scatter plot.\n",
    "plt.scatter(\n",
    "    y=simulations_df['Returns'],\n",
    "    x=simulations_df['Volatility'],\n",
    "    c=simulations_df['Sharpe Ratio'],\n",
    "    cmap='RdYlBu'\n",
    ")\n",
    "\n",
    "# Give the Plot some labels, and titles.\n",
    "plt.title('Portfolio Returns Vs. Risk')\n",
    "plt.colorbar(label='Sharpe Ratio')\n",
    "plt.xlabel('Standard Deviation')\n",
    "plt.ylabel('Returns')\n",
    "\n",
    "# Plot the Max Sharpe Ratio, using a `Red Star`.\n",
    "plt.scatter(\n",
    "    max_sharpe_ratio[1],\n",
    "    max_sharpe_ratio[0],\n",
    "    marker=(5, 1, 0),\n",
    "    color='r',\n",
    "    s=600\n",
    ")\n",
    "\n",
    "# Plot the Min Volatility, using a `Blue Star`.\n",
    "plt.scatter(\n",
    "    min_volatility[1],\n",
    "    min_volatility[0],\n",
    "    marker=(5, 1, 0),\n",
    "    color='b',\n",
    "    s=600\n",
    ")\n",
    "\n",
    "# Finally, show the plot.\n",
    "plt.show()"
   ],
   "id": "7e5a5cac3112b14f",
   "outputs": [
    {
     "data": {
      "text/plain": [
       "<Figure size 640x480 with 2 Axes>"
      ],
      "image/png": "[encoded data removed]"
     },
     "metadata": {},
     "output_type": "display_data"
    }
   ],
   "execution_count": 12
  },
  {
   "metadata": {},
   "cell_type": "code",
   "outputs": [],
   "execution_count": null,
   "source": "",
   "id": "b38d44ed8835b884"
  }
 ],
 "metadata": {
  "kernelspec": {
   "display_name": "Python 3",
   "language": "python",
   "name": "python3"
  },
  "language_info": {
   "codemirror_mode": {
    "name": "ipython",
    "version": 2
   },
   "file_extension": ".py",
   "mimetype": "text/x-python",
   "name": "python",
   "nbconvert_exporter": "python",
   "pygments_lexer": "ipython2",
   "version": "2.7.6"
  }
 },
 "nbformat": 4,
 "nbformat_minor": 5
}
