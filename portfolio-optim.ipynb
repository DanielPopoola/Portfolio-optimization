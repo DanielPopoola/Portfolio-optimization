{
 "cells": [
  {
   "cell_type": "code",
   "id": "initial_id",
   "metadata": {
    "collapsed": true,
    "ExecuteTime": {
     "end_time": "2025-04-05T11:16:09.388859Z",
     "start_time": "2025-04-05T11:16:09.369673Z"
    }
   },
   "source": [
    "import pathlib\n",
    "import numpy as np\n",
    "import pandas as pd\n",
    "import matplotlib.pyplot as plt\n",
    "import scipy.optimize as opt\n",
    "\n",
    "from pprint import  pprint\n",
    "from fake_useragent import  UserAgent\n",
    "from src.data_fetcher.client import  PriceHistory\n",
    "\n",
    "# Set display options for  pandas\n",
    "pd.set_option('display.max_colwidth', 1)\n",
    "pd.set_option('expand_frame_repr', False)"
   ],
   "outputs": [],
   "execution_count": 40
  },
  {
   "metadata": {},
   "cell_type": "markdown",
   "source": "## Fetching and Loading Data",
   "id": "9de45a156da450df"
  },
  {
   "metadata": {
    "ExecuteTime": {
     "end_time": "2025-04-05T11:18:32.400922Z",
     "start_time": "2025-04-05T11:18:32.353135Z"
    }
   },
   "cell_type": "code",
   "source": [
    "# Define the symbols\n",
    "symbols = ['AAPL', 'MSFT', 'TSLA', 'AMZN', 'GOOGL']\n",
    "\n",
    "# Grab number of stocks in portfolio\n",
    "number_of_stocks = len(symbols)\n",
    "\n",
    "# If no data is available, grab it from the NASDAQ.\n",
    "if not pathlib.Path('data/stock_data.csv').exists():\n",
    "    # Initialize PriceHistory Client\n",
    "    price_history_client = PriceHistory(symbols=symbols, user_agent=UserAgent().chrome)\n",
    "    # Grab and dump data in to a csv file\n",
    "    price_history_client.price_data_frame.to_csv('src/data/stock_data.csv', index=False)\n",
    "    pprint(price_history_client.price_data_frame)\n",
    "    \n",
    "    # store dataframe in variable\n",
    "    price_df: pd.DataFrame = price_history_client.price_data_frame\n",
    "    \n",
    "else:\n",
    "    # load the existing CSV file\n",
    "    price_df: pd.DataFrame = pd.read_csv('data/stock_data.csv')\n",
    "    \n",
    "display(price_df.head())"
   ],
   "id": "967fa6cf6ea683a8",
   "outputs": [
    {
     "data": {
      "text/plain": [
       "         date   close    volume    open      high      low symbol\n",
       "0  2025-04-04  145.60  62259540  148.01  151.0700  145.380  GOOGL\n",
       "1  2025-04-03  150.72  46883370  151.11  152.7799  150.390  GOOGL\n",
       "2  2025-04-02  157.04  25041730  155.15  158.4052  154.700  GOOGL\n",
       "3  2025-04-01  157.07  30672900  153.62  158.1000  153.620  GOOGL\n",
       "4  2025-03-31  154.64  54603460  153.11  155.5400  150.662  GOOGL"
      ],
      "text/html": [
       "<div>\n",
       "<style scoped>\n",
       "    .dataframe tbody tr th:only-of-type {\n",
       "        vertical-align: middle;\n",
       "    }\n",
       "\n",
       "    .dataframe tbody tr th {\n",
       "        vertical-align: top;\n",
       "    }\n",
       "\n",
       "    .dataframe thead th {\n",
       "        text-align: right;\n",
       "    }\n",
       "</style>\n",
       "<table border=\"1\" class=\"dataframe\">\n",
       "  <thead>\n",
       "    <tr style=\"text-align: right;\">\n",
       "      <th></th>\n",
       "      <th>date</th>\n",
       "      <th>close</th>\n",
       "      <th>volume</th>\n",
       "      <th>open</th>\n",
       "      <th>high</th>\n",
       "      <th>low</th>\n",
       "      <th>symbol</th>\n",
       "    </tr>\n",
       "  </thead>\n",
       "  <tbody>\n",
       "    <tr>\n",
       "      <th>0</th>\n",
       "      <td>2025-04-04</td>\n",
       "      <td>145.60</td>\n",
       "      <td>62259540</td>\n",
       "      <td>148.01</td>\n",
       "      <td>151.0700</td>\n",
       "      <td>145.380</td>\n",
       "      <td>GOOGL</td>\n",
       "    </tr>\n",
       "    <tr>\n",
       "      <th>1</th>\n",
       "      <td>2025-04-03</td>\n",
       "      <td>150.72</td>\n",
       "      <td>46883370</td>\n",
       "      <td>151.11</td>\n",
       "      <td>152.7799</td>\n",
       "      <td>150.390</td>\n",
       "      <td>GOOGL</td>\n",
       "    </tr>\n",
       "    <tr>\n",
       "      <th>2</th>\n",
       "      <td>2025-04-02</td>\n",
       "      <td>157.04</td>\n",
       "      <td>25041730</td>\n",
       "      <td>155.15</td>\n",
       "      <td>158.4052</td>\n",
       "      <td>154.700</td>\n",
       "      <td>GOOGL</td>\n",
       "    </tr>\n",
       "    <tr>\n",
       "      <th>3</th>\n",
       "      <td>2025-04-01</td>\n",
       "      <td>157.07</td>\n",
       "      <td>30672900</td>\n",
       "      <td>153.62</td>\n",
       "      <td>158.1000</td>\n",
       "      <td>153.620</td>\n",
       "      <td>GOOGL</td>\n",
       "    </tr>\n",
       "    <tr>\n",
       "      <th>4</th>\n",
       "      <td>2025-03-31</td>\n",
       "      <td>154.64</td>\n",
       "      <td>54603460</td>\n",
       "      <td>153.11</td>\n",
       "      <td>155.5400</td>\n",
       "      <td>150.662</td>\n",
       "      <td>GOOGL</td>\n",
       "    </tr>\n",
       "  </tbody>\n",
       "</table>\n",
       "</div>"
      ]
     },
     "metadata": {},
     "output_type": "display_data"
    }
   ],
   "execution_count": 53
  },
  {
   "metadata": {
    "ExecuteTime": {
     "end_time": "2025-04-05T11:16:09.522079Z",
     "start_time": "2025-04-05T11:16:09.459018Z"
    }
   },
   "cell_type": "code",
   "source": [
    "# Grab important columns\n",
    "price_df = price_df[['date', 'symbol', 'close']]\n",
    "\n",
    "# Pivot dataframe to make symbols headers\n",
    "price_df = price_df.pivot(index='date', columns='symbol', values='close')\n",
    "\n",
    "display(price_df.head())"
   ],
   "id": "b6ac3d83b35ff6bf",
   "outputs": [
    {
     "data": {
      "text/plain": [
       "symbol        AAPL    AMZN   GOOGL    MSFT    TSLA\n",
       "date                                              \n",
       "2024-10-07  221.69  180.80  162.98  409.54  240.83\n",
       "2024-10-08  225.77  182.72  164.38  414.71  244.50\n",
       "2024-10-09  229.54  185.17  161.86  417.46  241.05\n",
       "2024-10-10  229.04  186.65  162.08  415.84  238.77\n",
       "2024-10-11  227.55  188.82  163.24  416.32  217.80"
      ],
      "text/html": [
       "<div>\n",
       "<style scoped>\n",
       "    .dataframe tbody tr th:only-of-type {\n",
       "        vertical-align: middle;\n",
       "    }\n",
       "\n",
       "    .dataframe tbody tr th {\n",
       "        vertical-align: top;\n",
       "    }\n",
       "\n",
       "    .dataframe thead th {\n",
       "        text-align: right;\n",
       "    }\n",
       "</style>\n",
       "<table border=\"1\" class=\"dataframe\">\n",
       "  <thead>\n",
       "    <tr style=\"text-align: right;\">\n",
       "      <th>symbol</th>\n",
       "      <th>AAPL</th>\n",
       "      <th>AMZN</th>\n",
       "      <th>GOOGL</th>\n",
       "      <th>MSFT</th>\n",
       "      <th>TSLA</th>\n",
       "    </tr>\n",
       "    <tr>\n",
       "      <th>date</th>\n",
       "      <th></th>\n",
       "      <th></th>\n",
       "      <th></th>\n",
       "      <th></th>\n",
       "      <th></th>\n",
       "    </tr>\n",
       "  </thead>\n",
       "  <tbody>\n",
       "    <tr>\n",
       "      <th>2024-10-07</th>\n",
       "      <td>221.69</td>\n",
       "      <td>180.80</td>\n",
       "      <td>162.98</td>\n",
       "      <td>409.54</td>\n",
       "      <td>240.83</td>\n",
       "    </tr>\n",
       "    <tr>\n",
       "      <th>2024-10-08</th>\n",
       "      <td>225.77</td>\n",
       "      <td>182.72</td>\n",
       "      <td>164.38</td>\n",
       "      <td>414.71</td>\n",
       "      <td>244.50</td>\n",
       "    </tr>\n",
       "    <tr>\n",
       "      <th>2024-10-09</th>\n",
       "      <td>229.54</td>\n",
       "      <td>185.17</td>\n",
       "      <td>161.86</td>\n",
       "      <td>417.46</td>\n",
       "      <td>241.05</td>\n",
       "    </tr>\n",
       "    <tr>\n",
       "      <th>2024-10-10</th>\n",
       "      <td>229.04</td>\n",
       "      <td>186.65</td>\n",
       "      <td>162.08</td>\n",
       "      <td>415.84</td>\n",
       "      <td>238.77</td>\n",
       "    </tr>\n",
       "    <tr>\n",
       "      <th>2024-10-11</th>\n",
       "      <td>227.55</td>\n",
       "      <td>188.82</td>\n",
       "      <td>163.24</td>\n",
       "      <td>416.32</td>\n",
       "      <td>217.80</td>\n",
       "    </tr>\n",
       "  </tbody>\n",
       "</table>\n",
       "</div>"
      ]
     },
     "metadata": {},
     "output_type": "display_data"
    }
   ],
   "execution_count": 42
  },
  {
   "metadata": {},
   "cell_type": "markdown",
   "source": "## Calculating Sharpe Ratio and Other Metrics",
   "id": "6645a214ac37e242"
  },
  {
   "metadata": {
    "ExecuteTime": {
     "end_time": "2025-04-05T11:16:09.557583Z",
     "start_time": "2025-04-05T11:16:09.523795Z"
    }
   },
   "cell_type": "code",
   "source": [
    "# Calculate log returns\n",
    "log_return = np.log(1 + price_df.pct_change())\n",
    "\n",
    "# Generate random weights and rebalance so that they sum up to 1\n",
    "random_weights = np.array(np.random.random(number_of_stocks))\n",
    "rebalance_weights = random_weights / np.sum(random_weights)\n",
    "\n",
    "# Calculate expected returns annualized\n",
    "exp_ret = np.dot(log_return.mean(), rebalance_weights) * 252\n",
    "\n",
    "# Calculate expected volatility annualized\n",
    "exp_vol  = np.sqrt(\n",
    "    np.dot(rebalance_weights.T, np.dot(log_return.cov() * 252, rebalance_weights))\n",
    ")\n",
    "# Calculate Sharpe Ratio.\n",
    "sharpe_ratio = (exp_ret - .02)/ exp_vol"
   ],
   "id": "df528c8a9912879e",
   "outputs": [],
   "execution_count": 43
  },
  {
   "metadata": {
    "ExecuteTime": {
     "end_time": "2025-04-05T11:16:09.601332Z",
     "start_time": "2025-04-05T11:16:09.565603Z"
    }
   },
   "cell_type": "code",
   "source": [
    "weights_df = pd.DataFrame(data={\n",
    "    'random_weights':random_weights,\n",
    "    'rebalance_weights':rebalance_weights\n",
    "})\n",
    "print('')\n",
    "print('='*80)\n",
    "print('PORTFOLIO WEIGHTS:')\n",
    "print(weights_df)\n",
    "print('-'*80)\n",
    "\n",
    "metrics_df = pd.DataFrame(data={\n",
    "    'Expected Portfolio Return': exp_ret,\n",
    "    'Expected Portfolio Volatility': exp_vol,\n",
    "    'Portfolio Sharpe Ratio': sharpe_ratio\n",
    "}, index=[0])\n",
    "print('')\n",
    "print('='*80)\n",
    "print('PORTFOLIO METRICS:')\n",
    "print(metrics_df)\n",
    "print('-'*80)\n"
   ],
   "id": "4279681a6a5d424d",
   "outputs": [
    {
     "name": "stdout",
     "output_type": "stream",
     "text": [
      "\n",
      "================================================================================\n",
      "PORTFOLIO WEIGHTS:\n",
      "   random_weights  rebalance_weights\n",
      "0  0.215566        0.089051         \n",
      "1  0.317155        0.131018         \n",
      "2  0.415138        0.171495         \n",
      "3  0.547911        0.226344         \n",
      "4  0.924933        0.382093         \n",
      "--------------------------------------------------------------------------------\n",
      "\n",
      "================================================================================\n",
      "PORTFOLIO METRICS:\n",
      "   Expected Portfolio Return  Expected Portfolio Volatility  Portfolio Sharpe Ratio\n",
      "0 -0.148844                   0.395805                      -0.426583              \n",
      "--------------------------------------------------------------------------------\n"
     ]
    }
   ],
   "execution_count": 44
  },
  {
   "metadata": {},
   "cell_type": "markdown",
   "source": "## Monte Carlo Simulation",
   "id": "d20d5c49db0a1c76"
  },
  {
   "metadata": {
    "ExecuteTime": {
     "end_time": "2025-04-05T11:16:16.836148Z",
     "start_time": "2025-04-05T11:16:09.601332Z"
    }
   },
   "cell_type": "code",
   "source": [
    "# Number of simulations\n",
    "num_of_simulations = 3000\n",
    "\n",
    "all_weights = np.zeros((num_of_simulations, number_of_stocks))\n",
    "\n",
    "return_arr = np.zeros(num_of_simulations)\n",
    "\n",
    "vol_arr = np.zeros(num_of_simulations)\n",
    "\n",
    "sharpe_arr = np.zeros(num_of_simulations)\n",
    "\n",
    "for idx in range(num_of_simulations):\n",
    "    weights = np.array(np.random.random(number_of_stocks))\n",
    "    weights = weights / np.sum(weights)\n",
    "    \n",
    "    all_weights[idx,:] = weights\n",
    "    \n",
    "    return_arr[idx] = np.dot(log_return.mean(), weights) * 252\n",
    "    \n",
    "    vol_arr[idx] = np.sqrt(np.dot(weights.T, np.dot(log_return.cov() * 252, weights)))\n",
    "    \n",
    "    sharpe_arr[idx] = (return_arr[idx] -.01) / vol_arr[idx]\n",
    "    \n",
    "simulations_data = [return_arr, vol_arr, sharpe_arr, all_weights]\n",
    "\n",
    "simulations_df = pd.DataFrame(data=simulations_data).T\n",
    "simulations_df.columns = ['Returns','Volatility', 'Sharpe Ratio', 'Portfolio Weights']\n",
    "\n",
    "simulations_df = simulations_df.infer_objects()\n",
    "\n",
    "print('')\n",
    "print('='*80)\n",
    "print('SIMULATIONS DATA:')\n",
    "print('='*80)\n",
    "print(simulations_df.head())\n",
    "print('-'*80)"
   ],
   "id": "aa6f35a97e14e79d",
   "outputs": [
    {
     "name": "stdout",
     "output_type": "stream",
     "text": [
      "\n",
      "================================================================================\n",
      "SIMULATIONS DATA:\n",
      "================================================================================\n",
      "    Returns  Volatility  Sharpe Ratio                                                                                           Portfolio Weights\n",
      "0 -0.224478  0.309008   -0.758810      [0.39505131465889304, 0.042989810696265486, 0.1867252614652218, 0.15869299578180932, 0.21654061739781022] \n",
      "1 -0.245358  0.246050   -1.037832      [0.27775235485732047, 0.13815659695474863, 0.35049503869469334, 0.2100481758637158, 0.02354783362952189]  \n",
      "2 -0.123787  0.400930   -0.333692      [0.030973791124701885, 0.2936739692490764, 0.15224298744632472, 0.1521197907794545, 0.3709894614004425]   \n",
      "3 -0.206745  0.341484   -0.634715      [0.37449580836644875, 0.047688141558357725, 0.26997141894809756, 0.04080102643853731, 0.26704360468855853]\n",
      "4 -0.200959  0.288129   -0.732168      [0.28087759821508806, 0.28135911753473314, 0.22821291187894802, 0.07867028968365833, 0.13088008268757245] \n",
      "--------------------------------------------------------------------------------\n"
     ]
    }
   ],
   "execution_count": 45
  },
  {
   "metadata": {},
   "cell_type": "markdown",
   "source": "## Grab Most Important metrics",
   "id": "55ea552f440c29b5"
  },
  {
   "metadata": {
    "ExecuteTime": {
     "end_time": "2025-04-05T11:16:16.873067Z",
     "start_time": "2025-04-05T11:16:16.843326Z"
    }
   },
   "cell_type": "code",
   "source": [
    "# Grab max sharpe ratio\n",
    "max_sharpe_ratio = simulations_df.loc[simulations_df['Sharpe Ratio'].idxmax()]\n",
    "\n",
    "# Get min volatility\n",
    "min_volatility = simulations_df.loc[simulations_df['Volatility'].idxmin()]\n",
    "\n",
    "print('')\n",
    "print('='*80)\n",
    "print('MAX SHARPE RATIO:')\n",
    "print('-'*80)\n",
    "print(max_sharpe_ratio)\n",
    "print('-'*80)\n",
    "\n",
    "print('')\n",
    "print('='*80)\n",
    "print('MIN VOLATILITY:')\n",
    "print('-'*80)\n",
    "print(min_volatility)\n",
    "print('-'*80)"
   ],
   "id": "cab1e5167d42ddca",
   "outputs": [
    {
     "name": "stdout",
     "output_type": "stream",
     "text": [
      "\n",
      "================================================================================\n",
      "MAX SHARPE RATIO:\n",
      "--------------------------------------------------------------------------------\n",
      "Returns             -0.056225                                                                                                  \n",
      "Volatility           0.566037                                                                                                  \n",
      "Sharpe Ratio        -0.116998                                                                                                  \n",
      "Portfolio Weights    [0.007434284320706166, 0.2737627245597934, 0.0018119118390138537, 0.05335831187707446, 0.6636327674034121]\n",
      "Name: 1172, dtype: object\n",
      "--------------------------------------------------------------------------------\n",
      "\n",
      "================================================================================\n",
      "MIN VOLATILITY:\n",
      "--------------------------------------------------------------------------------\n",
      "Returns             -0.274514                                                                                                 \n",
      "Volatility           0.226985                                                                                                 \n",
      "Sharpe Ratio        -1.253448                                                                                                 \n",
      "Portfolio Weights    [0.32106283032347827, 0.017740079116965325, 0.2044821875900822, 0.4452168941846405, 0.011498008784833749]\n",
      "Name: 2418, dtype: object\n",
      "--------------------------------------------------------------------------------\n"
     ]
    }
   ],
   "execution_count": 46
  },
  {
   "metadata": {},
   "cell_type": "markdown",
   "source": "## Visualization",
   "id": "bd76c41b3dccdb33"
  },
  {
   "metadata": {
    "ExecuteTime": {
     "end_time": "2025-04-05T11:16:18.339627Z",
     "start_time": "2025-04-05T11:16:16.873770Z"
    }
   },
   "cell_type": "code",
   "source": [
    "%matplotlib inline\n",
    "import warnings\n",
    "warnings.filterwarnings(\"ignore\")\n",
    "\n",
    "# Plot the data on a Scatter plot.\n",
    "plt.scatter(\n",
    "    y=simulations_df['Returns'],\n",
    "    x=simulations_df['Volatility'],\n",
    "    c=simulations_df['Sharpe Ratio'],\n",
    "    cmap='RdYlBu'\n",
    ")\n",
    "\n",
    "# Give the Plot some labels, and titles.\n",
    "plt.title('Portfolio Returns Vs. Risk')\n",
    "plt.colorbar(label='Sharpe Ratio')\n",
    "plt.xlabel('Standard Deviation')\n",
    "plt.ylabel('Returns')\n",
    "\n",
    "# Plot the Max Sharpe Ratio, using a `Red Star`.\n",
    "plt.scatter(\n",
    "    max_sharpe_ratio[1],\n",
    "    max_sharpe_ratio[0],\n",
    "    marker=(5, 1, 0),\n",
    "    color='r',\n",
    "    s=600\n",
    ")\n",
    "\n",
    "# Plot the Min Volatility, using a `Blue Star`.\n",
    "plt.scatter(\n",
    "    min_volatility[1],\n",
    "    min_volatility[0],\n",
    "    marker=(5, 1, 0),\n",
    "    color='b',\n",
    "    s=600\n",
    ")\n",
    "\n",
    "# Finally, show the plot.\n",
    "plt.show()"
   ],
   "id": "7e5a5cac3112b14f",
   "outputs": [
    {
     "data": {
      "text/plain": [
       "<Figure size 640x480 with 2 Axes>"
      ],
      "image/png": "[encoded data removed]"
     },
     "metadata": {},
     "output_type": "display_data"
    }
   ],
   "execution_count": 47
  },
  {
   "metadata": {},
   "cell_type": "markdown",
   "source": "## Optimization",
   "id": "60340d177f2ce2f5"
  },
  {
   "metadata": {
    "ExecuteTime": {
     "end_time": "2025-04-05T11:16:18.372051Z",
     "start_time": "2025-04-05T11:16:18.347266Z"
    }
   },
   "cell_type": "code",
   "source": [
    "def get_metrics(weights: list) -> np.array:\n",
    "    \"\"\"\n",
    "    ### Overview:\n",
    "    ----\n",
    "    With a given set of weights, return the portfolio returns,\n",
    "    the portfolio volatility, and the portfolio sharpe ratio.\n",
    "    \n",
    "    ### Arguments:\n",
    "    ----\n",
    "    weights (list): An array of portfolio weights.\n",
    "    \n",
    "    ### Returns:\n",
    "    ----\n",
    "    (np.array): An array containg return value, a volatility value,\n",
    "    and a sharpe ratio.\n",
    "    \"\"\"\n",
    "    weights = np.array(weights)\n",
    "     \n",
    "    ret = np.dot(log_return.mean(), weights) * 252\n",
    "     \n",
    "    vol = np.sqrt(\n",
    "            np.dot(weights.T, np.dot(log_return.cov() * 252 , weights))\n",
    "            )\n",
    "     \n",
    "    sr = (ret - 0.02)/ vol\n",
    "     \n",
    "    return np.array([ret, vol, sr])\n",
    "\n",
    "def grab_negative_sharpe(weights: list) -> np.array:\n",
    "    \"\"\"The function used to minimize the Sharpe Ratio.\n",
    "\n",
    "    ### Arguments:\n",
    "    ----\n",
    "    weights (list): The weights, we are testing to see\n",
    "        if it's the minimum.\n",
    "\n",
    "    ### Returns:\n",
    "    ----\n",
    "    (np.array): An numpy array of the portfolio metrics.\n",
    "    \"\"\"\n",
    "    return get_metrics(weights)[2] - 1\n",
    "\n",
    "def grab_volatility(weights: list) -> np.array:\n",
    "    \"\"\"The function used to minimize the Sharpe Ratio.\n",
    "\n",
    "    ### Arguments:\n",
    "    ----\n",
    "    weights (list): The weights, we are testing to see\n",
    "        if it's the minimum.\n",
    "\n",
    "    ### Returns:\n",
    "    ----\n",
    "    (np.array): An numpy array of the portfolio metrics.\n",
    "    \"\"\"\n",
    "    return get_metrics(weights)[1]\n",
    "\n",
    "def check_sum(weights: list) -> float:\n",
    "    \"\"\"Ensure the allocations of the \"weights\", sums to 1 (100%)\n",
    "\n",
    "    ### Arguments:\n",
    "    ----\n",
    "    weights (list): The weights we want to check to see\n",
    "        if they sum to 1.\n",
    "\n",
    "    ### Returns:\n",
    "    ----\n",
    "    float: The different between 1 and the sum of the weights.\n",
    "    \"\"\"\n",
    "    return np.sum(weights) - 1"
   ],
   "id": "b38d44ed8835b884",
   "outputs": [],
   "execution_count": 48
  },
  {
   "metadata": {
    "ExecuteTime": {
     "end_time": "2025-04-05T11:16:18.529319Z",
     "start_time": "2025-04-05T11:16:18.380016Z"
    }
   },
   "cell_type": "code",
   "source": [
    "# Define bounds in our optimization process. Make sure that no asset is more than 100% of portfolio\n",
    "bounds = tuple((0, 1) for symbol in range(number_of_stocks))\n",
    "\n",
    "# Define constraints, make sure weights don't exceed 100%\n",
    "constraints = ({'type':'eq', 'fun': check_sum})\n",
    "\n",
    "init_guess = number_of_stocks * [1 / number_of_stocks]\n",
    "\n",
    "# Peform optimization process\n",
    "optimized_sharpe = opt.minimize(\n",
    "    grab_negative_sharpe, # minimize this\n",
    "    init_guess, # start with this values\n",
    "    method='SLSQP',\n",
    "    bounds=bounds,# don't exceed these bounds\n",
    "    constraints=constraints # don't exceed 100% constraints\n",
    ")\n",
    "\n",
    "# Print the results.\n",
    "print('')\n",
    "print('='*80)\n",
    "print('OPTIMIZED SHARPE RATIO:')\n",
    "print('-'*80)\n",
    "print(optimized_sharpe)\n",
    "print('-'*80)\n"
   ],
   "id": "1cdea8a094bcd219",
   "outputs": [
    {
     "name": "stdout",
     "output_type": "stream",
     "text": [
      "\n",
      "================================================================================\n",
      "OPTIMIZED SHARPE RATIO:\n",
      "--------------------------------------------------------------------------------\n",
      " message: Optimization terminated successfully\n",
      " success: True\n",
      "  status: 0\n",
      "     fun: -2.3769343930742917\n",
      "       x: [ 4.623e-01  0.000e+00  3.712e-02  5.006e-01  0.000e+00]\n",
      "     nit: 6\n",
      "     jac: [ 8.733e-02  9.048e-01  8.724e-02  8.727e-02  2.155e+00]\n",
      "    nfev: 36\n",
      "    njev: 6\n",
      "--------------------------------------------------------------------------------\n"
     ]
    }
   ],
   "execution_count": 49
  },
  {
   "metadata": {
    "ExecuteTime": {
     "end_time": "2025-04-05T11:16:18.564219Z",
     "start_time": "2025-04-05T11:16:18.529437Z"
    }
   },
   "cell_type": "code",
   "source": [
    "# Grab the final results\n",
    "optimized_metrics = get_metrics(weights=optimized_sharpe.x)\n",
    "\n",
    "# Print the Optimized Weights.\n",
    "print('')\n",
    "print('='*80)\n",
    "print('OPTIMIZED WEIGHTS:')\n",
    "print('-'*80)\n",
    "print(optimized_sharpe.x)\n",
    "print('-'*80)\n",
    "\n",
    "\n",
    "# Print the Optimized Metrics.\n",
    "print('')\n",
    "print('='*80)\n",
    "print('OPTIMIZED METRICS:')\n",
    "print('-'*80)\n",
    "print(optimized_metrics)\n",
    "print('-'*80)   "
   ],
   "id": "708c827299db144a",
   "outputs": [
    {
     "name": "stdout",
     "output_type": "stream",
     "text": [
      "\n",
      "================================================================================\n",
      "OPTIMIZED WEIGHTS:\n",
      "--------------------------------------------------------------------------------\n",
      "[0.46231685 0.         0.03711776 0.50056538 0.        ]\n",
      "--------------------------------------------------------------------------------\n",
      "\n",
      "================================================================================\n",
      "OPTIMIZED METRICS:\n",
      "--------------------------------------------------------------------------------\n",
      "[-0.29547539  0.22911432 -1.37693439]\n",
      "--------------------------------------------------------------------------------\n"
     ]
    }
   ],
   "execution_count": 50
  },
  {
   "metadata": {
    "ExecuteTime": {
     "end_time": "2025-04-05T11:16:18.847959Z",
     "start_time": "2025-04-05T11:16:18.572240Z"
    }
   },
   "cell_type": "code",
   "source": [
    "# Define bounds in our optimization process. Make sure that no asset is more than 100% of portfolio\n",
    "bounds = tuple((0, 1) for symbol in range(number_of_stocks))\n",
    "\n",
    "# Define constraints, make sure weights don't exceed 100%\n",
    "constraints = ({'type':'eq', 'fun': check_sum})\n",
    "\n",
    "init_guess = number_of_stocks * [1 / number_of_stocks]\n",
    "\n",
    "# Peform optimization process\n",
    "optimized_volatility = opt.minimize(\n",
    "    grab_volatility, # minimize this\n",
    "    init_guess, # start with this values\n",
    "    method='SLSQP',\n",
    "    bounds=bounds,# don't exceed these bounds\n",
    "    constraints=constraints # don't exceed 100% constraints\n",
    ")\n",
    "\n",
    "# Print the results.\n",
    "print('')\n",
    "print('='*80)\n",
    "print('OPTIMIZED VOLATILITY:')\n",
    "print('-'*80)\n",
    "print(optimized_volatility)\n",
    "print('-'*80)\n"
   ],
   "id": "a1f9f1747f2de4c3",
   "outputs": [
    {
     "name": "stdout",
     "output_type": "stream",
     "text": [
      "\n",
      "================================================================================\n",
      "OPTIMIZED VOLATILITY:\n",
      "--------------------------------------------------------------------------------\n",
      " message: Optimization terminated successfully\n",
      " success: True\n",
      "  status: 0\n",
      "     fun: 0.22267941610770373\n",
      "       x: [ 2.689e-01  0.000e+00  1.585e-01  5.726e-01  1.540e-17]\n",
      "     nit: 7\n",
      "     jac: [ 2.228e-01  2.515e-01  2.223e-01  2.227e-01  4.004e-01]\n",
      "    nfev: 42\n",
      "    njev: 7\n",
      "--------------------------------------------------------------------------------\n"
     ]
    }
   ],
   "execution_count": 51
  },
  {
   "metadata": {
    "ExecuteTime": {
     "end_time": "2025-04-05T11:16:18.887978Z",
     "start_time": "2025-04-05T11:16:18.855978Z"
    }
   },
   "cell_type": "code",
   "source": [
    "# Grab the metrics.\n",
    "optimized_metrics = get_metrics(weights=optimized_volatility.x)\n",
    "\n",
    "# Print the Optimized Weights.\n",
    "print('')\n",
    "print('='*80)\n",
    "print('OPTIMIZED WEIGHTS:')\n",
    "print('-'*80)\n",
    "print(optimized_volatility.x)\n",
    "print('-'*80)\n",
    "\n",
    "\n",
    "# Print the Optimized Metrics.\n",
    "print('')\n",
    "print('='*80)\n",
    "print('OPTIMIZED METRICS:')\n",
    "print('-'*80)\n",
    "print(optimized_metrics)\n",
    "print('-'*80)"
   ],
   "id": "415ef859ca9de2cf",
   "outputs": [
    {
     "name": "stdout",
     "output_type": "stream",
     "text": [
      "\n",
      "================================================================================\n",
      "OPTIMIZED WEIGHTS:\n",
      "--------------------------------------------------------------------------------\n",
      "[2.68866707e-01 0.00000000e+00 1.58493305e-01 5.72639988e-01\n",
      " 1.53956708e-17]\n",
      "--------------------------------------------------------------------------------\n",
      "\n",
      "================================================================================\n",
      "OPTIMIZED METRICS:\n",
      "--------------------------------------------------------------------------------\n",
      "[-0.27808979  0.22267942 -1.33864996]\n",
      "--------------------------------------------------------------------------------\n"
     ]
    }
   ],
   "execution_count": 52
  },
  {
   "metadata": {
    "ExecuteTime": {
     "end_time": "2025-04-05T11:16:18.907567Z",
     "start_time": "2025-04-05T11:16:18.895982Z"
    }
   },
   "cell_type": "code",
   "source": "",
   "id": "baf8f1ec2d3cd108",
   "outputs": [],
   "execution_count": 52
  }
 ],
 "metadata": {
  "kernelspec": {
   "display_name": "Python 3",
   "language": "python",
   "name": "python3"
  },
  "language_info": {
   "codemirror_mode": {
    "name": "ipython",
    "version": 2
   },
   "file_extension": ".py",
   "mimetype": "text/x-python",
   "name": "python",
   "nbconvert_exporter": "python",
   "pygments_lexer": "ipython2",
   "version": "2.7.6"
  }
 },
 "nbformat": 4,
 "nbformat_minor": 5
}
