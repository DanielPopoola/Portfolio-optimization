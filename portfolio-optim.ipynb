{
 "cells": [
  {
   "cell_type": "code",
   "id": "initial_id",
   "metadata": {
    "collapsed": true,
    "ExecuteTime": {
     "end_time": "2025-04-05T10:49:57.636708Z",
     "start_time": "2025-04-05T10:49:51.242183Z"
    }
   },
   "source": [
    "import pathlib\n",
    "import numpy as np\n",
    "import pandas as pd\n",
    "import matplotlib.pyplot as plt\n",
    "import scipy.optimize as opt\n",
    "\n",
    "from pprint import  pprint\n",
    "from fake_useragent import  UserAgent\n",
    "from src.data_fetcher.client import  PriceHistory\n",
    "\n",
    "# Set display options for  pandas\n",
    "pd.set_option('display.max_colwidth', 1)\n",
    "pd.set_option('expand_frame_repr', False)"
   ],
   "outputs": [],
   "execution_count": 1
  },
  {
   "metadata": {},
   "cell_type": "markdown",
   "source": "## Fetching and Loading Data",
   "id": "9de45a156da450df"
  },
  {
   "metadata": {
    "ExecuteTime": {
     "end_time": "2025-04-05T10:49:57.690383Z",
     "start_time": "2025-04-05T10:49:57.640866Z"
    }
   },
   "cell_type": "code",
   "source": [
    "# Define the symbols\n",
    "symbols = ['AAPL', 'MSFT', 'TSLA', 'AMZN', 'GOOGL']\n",
    "\n",
    "# Grab number of stocks in portfolio\n",
    "number_of_stocks = len(symbols)\n",
    "\n",
    "# If no data is available, grab it from the NASDAQ.\n",
    "if not pathlib.Path('src/data/stock_data.csv').exists():\n",
    "    # Initialize PriceHistory Client\n",
    "    price_history_client = PriceHistory(symbols=symbols, user_agent=UserAgent().chrome)\n",
    "    # Grab and dump data in to a csv file.\n",
    "    price_history_client.price_data_frame.to_csv('src/data/stock_data.csv', index=False)\n",
    "    pprint(price_history_client.price_data_frame)\n",
    "    \n",
    "    # store dataframe in variable\n",
    "    price_df: pd.DataFrame = price_history_client.price_data_frame\n",
    "    \n",
    "else:\n",
    "    # load the existing CSV file\n",
    "    price_df: pd.DataFrame = pd.read_csv('src/data/stock_data.csv')\n",
    "    \n",
    "display(price_df.head())"
   ],
   "id": "967fa6cf6ea683a8",
   "outputs": [
    {
     "data": {
      "text/plain": [
       "         date   close    volume     open    high      low symbol\n",
       "0  2025-04-03  178.41  95553620  182.995  184.13  176.920  AMZN \n",
       "1  2025-04-02  196.01  53679200  187.660  198.34  187.660  AMZN \n",
       "2  2025-04-01  192.17  41267320  187.860  193.93  187.200  AMZN \n",
       "3  2025-03-31  190.26  63547560  188.190  191.33  184.400  AMZN \n",
       "4  2025-03-28  192.72  52548230  198.420  199.26  191.881  AMZN "
      ],
      "text/html": [
       "<div>\n",
       "<style scoped>\n",
       "    .dataframe tbody tr th:only-of-type {\n",
       "        vertical-align: middle;\n",
       "    }\n",
       "\n",
       "    .dataframe tbody tr th {\n",
       "        vertical-align: top;\n",
       "    }\n",
       "\n",
       "    .dataframe thead th {\n",
       "        text-align: right;\n",
       "    }\n",
       "</style>\n",
       "<table border=\"1\" class=\"dataframe\">\n",
       "  <thead>\n",
       "    <tr style=\"text-align: right;\">\n",
       "      <th></th>\n",
       "      <th>date</th>\n",
       "      <th>close</th>\n",
       "      <th>volume</th>\n",
       "      <th>open</th>\n",
       "      <th>high</th>\n",
       "      <th>low</th>\n",
       "      <th>symbol</th>\n",
       "    </tr>\n",
       "  </thead>\n",
       "  <tbody>\n",
       "    <tr>\n",
       "      <th>0</th>\n",
       "      <td>2025-04-03</td>\n",
       "      <td>178.41</td>\n",
       "      <td>95553620</td>\n",
       "      <td>182.995</td>\n",
       "      <td>184.13</td>\n",
       "      <td>176.920</td>\n",
       "      <td>AMZN</td>\n",
       "    </tr>\n",
       "    <tr>\n",
       "      <th>1</th>\n",
       "      <td>2025-04-02</td>\n",
       "      <td>196.01</td>\n",
       "      <td>53679200</td>\n",
       "      <td>187.660</td>\n",
       "      <td>198.34</td>\n",
       "      <td>187.660</td>\n",
       "      <td>AMZN</td>\n",
       "    </tr>\n",
       "    <tr>\n",
       "      <th>2</th>\n",
       "      <td>2025-04-01</td>\n",
       "      <td>192.17</td>\n",
       "      <td>41267320</td>\n",
       "      <td>187.860</td>\n",
       "      <td>193.93</td>\n",
       "      <td>187.200</td>\n",
       "      <td>AMZN</td>\n",
       "    </tr>\n",
       "    <tr>\n",
       "      <th>3</th>\n",
       "      <td>2025-03-31</td>\n",
       "      <td>190.26</td>\n",
       "      <td>63547560</td>\n",
       "      <td>188.190</td>\n",
       "      <td>191.33</td>\n",
       "      <td>184.400</td>\n",
       "      <td>AMZN</td>\n",
       "    </tr>\n",
       "    <tr>\n",
       "      <th>4</th>\n",
       "      <td>2025-03-28</td>\n",
       "      <td>192.72</td>\n",
       "      <td>52548230</td>\n",
       "      <td>198.420</td>\n",
       "      <td>199.26</td>\n",
       "      <td>191.881</td>\n",
       "      <td>AMZN</td>\n",
       "    </tr>\n",
       "  </tbody>\n",
       "</table>\n",
       "</div>"
      ]
     },
     "metadata": {},
     "output_type": "display_data"
    }
   ],
   "execution_count": 2
  },
  {
   "metadata": {
    "ExecuteTime": {
     "end_time": "2025-04-05T10:49:57.747609Z",
     "start_time": "2025-04-05T10:49:57.696403Z"
    }
   },
   "cell_type": "code",
   "source": [
    "# Grab important columns\n",
    "price_df = price_df[['date', 'symbol', 'close']]\n",
    "\n",
    "# Pivot dataframe to make symbols headers\n",
    "price_df = price_df.pivot(index='date', columns='symbol', values='close')\n",
    "\n",
    "display(price_df.head())"
   ],
   "id": "b6ac3d83b35ff6bf",
   "outputs": [
    {
     "data": {
      "text/plain": [
       "symbol        AAPL    AMZN    MSFT    TSLA\n",
       "date                                      \n",
       "2024-10-07  221.69  180.80  409.54  240.83\n",
       "2024-10-08  225.77  182.72  414.71  244.50\n",
       "2024-10-09  229.54  185.17  417.46  241.05\n",
       "2024-10-10  229.04  186.65  415.84  238.77\n",
       "2024-10-11  227.55  188.82  416.32  217.80"
      ],
      "text/html": [
       "<div>\n",
       "<style scoped>\n",
       "    .dataframe tbody tr th:only-of-type {\n",
       "        vertical-align: middle;\n",
       "    }\n",
       "\n",
       "    .dataframe tbody tr th {\n",
       "        vertical-align: top;\n",
       "    }\n",
       "\n",
       "    .dataframe thead th {\n",
       "        text-align: right;\n",
       "    }\n",
       "</style>\n",
       "<table border=\"1\" class=\"dataframe\">\n",
       "  <thead>\n",
       "    <tr style=\"text-align: right;\">\n",
       "      <th>symbol</th>\n",
       "      <th>AAPL</th>\n",
       "      <th>AMZN</th>\n",
       "      <th>MSFT</th>\n",
       "      <th>TSLA</th>\n",
       "    </tr>\n",
       "    <tr>\n",
       "      <th>date</th>\n",
       "      <th></th>\n",
       "      <th></th>\n",
       "      <th></th>\n",
       "      <th></th>\n",
       "    </tr>\n",
       "  </thead>\n",
       "  <tbody>\n",
       "    <tr>\n",
       "      <th>2024-10-07</th>\n",
       "      <td>221.69</td>\n",
       "      <td>180.80</td>\n",
       "      <td>409.54</td>\n",
       "      <td>240.83</td>\n",
       "    </tr>\n",
       "    <tr>\n",
       "      <th>2024-10-08</th>\n",
       "      <td>225.77</td>\n",
       "      <td>182.72</td>\n",
       "      <td>414.71</td>\n",
       "      <td>244.50</td>\n",
       "    </tr>\n",
       "    <tr>\n",
       "      <th>2024-10-09</th>\n",
       "      <td>229.54</td>\n",
       "      <td>185.17</td>\n",
       "      <td>417.46</td>\n",
       "      <td>241.05</td>\n",
       "    </tr>\n",
       "    <tr>\n",
       "      <th>2024-10-10</th>\n",
       "      <td>229.04</td>\n",
       "      <td>186.65</td>\n",
       "      <td>415.84</td>\n",
       "      <td>238.77</td>\n",
       "    </tr>\n",
       "    <tr>\n",
       "      <th>2024-10-11</th>\n",
       "      <td>227.55</td>\n",
       "      <td>188.82</td>\n",
       "      <td>416.32</td>\n",
       "      <td>217.80</td>\n",
       "    </tr>\n",
       "  </tbody>\n",
       "</table>\n",
       "</div>"
      ]
     },
     "metadata": {},
     "output_type": "display_data"
    }
   ],
   "execution_count": 3
  },
  {
   "metadata": {},
   "cell_type": "markdown",
   "source": "## Calculating Sharpe Ratio and Other Metrics",
   "id": "6645a214ac37e242"
  },
  {
   "metadata": {
    "ExecuteTime": {
     "end_time": "2025-04-05T10:49:57.773071Z",
     "start_time": "2025-04-05T10:49:57.751626Z"
    }
   },
   "cell_type": "code",
   "source": [
    "# Calculate log returns\n",
    "log_return = np.log(1 + price_df.pct_change())\n",
    "\n",
    "# Generate random weights and rebalance so that they sum up to 1\n",
    "random_weights = np.array(np.random.random(number_of_stocks))\n",
    "rebalance_weights = random_weights / np.sum(random_weights)\n",
    "\n",
    "# Calculate expected returns annualized\n",
    "exp_ret = np.dot(log_return.mean(), rebalance_weights) * 252\n",
    "\n",
    "# Calculate expected volatility annualized\n",
    "exp_vol  = np.sqrt(\n",
    "    np.dot(rebalance_weights.T, np.dot(log_return.cov() * 252, rebalance_weights))\n",
    ")\n",
    "# Calculate Sharpe Ratio.\n",
    "sharpe_ratio = (exp_ret - .02)/ exp_vol"
   ],
   "id": "df528c8a9912879e",
   "outputs": [],
   "execution_count": 4
  },
  {
   "metadata": {
    "ExecuteTime": {
     "end_time": "2025-04-05T10:49:57.805096Z",
     "start_time": "2025-04-05T10:49:57.783066Z"
    }
   },
   "cell_type": "code",
   "source": [
    "weights_df = pd.DataFrame(data={\n",
    "    'random_weights':random_weights,\n",
    "    'rebalance_weights':rebalance_weights\n",
    "})\n",
    "print('')\n",
    "print('='*80)\n",
    "print('PORTFOLIO WEIGHTS:')\n",
    "print(weights_df)\n",
    "print('-'*80)\n",
    "\n",
    "metrics_df = pd.DataFrame(data={\n",
    "    'Expected Portfolio Return': exp_ret,\n",
    "    'Expected Portfolio Volatility': exp_vol,\n",
    "    'Portfolio Sharpe Ratio': sharpe_ratio\n",
    "}, index=[0])\n",
    "print('')\n",
    "print('='*80)\n",
    "print('PORTFOLIO METRICS:')\n",
    "print(metrics_df)\n",
    "print('-'*80)\n"
   ],
   "id": "4279681a6a5d424d",
   "outputs": [
    {
     "name": "stdout",
     "output_type": "stream",
     "text": [
      "\n",
      "================================================================================\n",
      "PORTFOLIO WEIGHTS:\n",
      "   random_weights  rebalance_weights\n",
      "0  0.886757        0.607630         \n",
      "1  0.286025        0.195992         \n",
      "2  0.081317        0.055721         \n",
      "3  0.205270        0.140657         \n",
      "--------------------------------------------------------------------------------\n",
      "\n",
      "================================================================================\n",
      "PORTFOLIO METRICS:\n",
      "   Expected Portfolio Return  Expected Portfolio Volatility  Portfolio Sharpe Ratio\n",
      "0 -0.095202                   0.275689                      -0.41787               \n",
      "--------------------------------------------------------------------------------\n"
     ]
    }
   ],
   "execution_count": 5
  },
  {
   "metadata": {},
   "cell_type": "markdown",
   "source": "## Monte Carlo Simulation",
   "id": "d20d5c49db0a1c76"
  },
  {
   "metadata": {
    "ExecuteTime": {
     "end_time": "2025-04-05T10:50:04.089596Z",
     "start_time": "2025-04-05T10:49:57.810139Z"
    }
   },
   "cell_type": "code",
   "source": [
    "# Number of simulations\n",
    "num_of_simulations = 3000\n",
    "\n",
    "all_weights = np.zeros((num_of_simulations, number_of_stocks))\n",
    "\n",
    "return_arr = np.zeros(num_of_simulations)\n",
    "\n",
    "vol_arr = np.zeros(num_of_simulations)\n",
    "\n",
    "sharpe_arr = np.zeros(num_of_simulations)\n",
    "\n",
    "for idx in range(num_of_simulations):\n",
    "    weights = np.array(np.random.random(number_of_stocks))\n",
    "    weights = weights / np.sum(weights)\n",
    "    \n",
    "    all_weights[idx,:] = weights\n",
    "    \n",
    "    return_arr[idx] = np.dot(log_return.mean(), weights) * 252\n",
    "    \n",
    "    vol_arr[idx] = np.sqrt(np.dot(weights.T, np.dot(log_return.cov() * 252, weights)))\n",
    "    \n",
    "    sharpe_arr[idx] = (return_arr[idx] -.01) / vol_arr[idx]\n",
    "    \n",
    "simulations_data = [return_arr, vol_arr, sharpe_arr, all_weights]\n",
    "\n",
    "simulations_df = pd.DataFrame(data=simulations_data).T\n",
    "simulations_df.columns = ['Returns','Volatility', 'Sharpe Ratio', 'Portfolio Weights']\n",
    "\n",
    "simulations_df = simulations_df.infer_objects()\n",
    "\n",
    "print('')\n",
    "print('='*80)\n",
    "print('SIMULATIONS DATA:')\n",
    "print('='*80)\n",
    "print(simulations_df.head())\n",
    "print('-'*80)"
   ],
   "id": "aa6f35a97e14e79d",
   "outputs": [
    {
     "name": "stdout",
     "output_type": "stream",
     "text": [
      "\n",
      "================================================================================\n",
      "SIMULATIONS DATA:\n",
      "================================================================================\n",
      "    Returns  Volatility  Sharpe Ratio                                                                     Portfolio Weights\n",
      "0  0.002655  0.407436   -0.018026      [0.40934195610071383, 0.059489300472865735, 0.0891945833403048, 0.4419741600861156] \n",
      "1 -0.060562  0.310627   -0.227160      [0.051174754055969385, 0.18529809023591898, 0.5165932241101474, 0.24693393159796426]\n",
      "2 -0.084590  0.260841   -0.362635      [0.2420504482883603, 0.495555043577305, 0.20575390486734585, 0.05664060326698894]   \n",
      "3 -0.086688  0.277480   -0.348449      [0.2902706460086259, 0.15372560666556492, 0.367676469803717, 0.1883272775220922]    \n",
      "4 -0.088992  0.272917   -0.362720      [0.34092036538435583, 0.17378404648781498, 0.3122824027232526, 0.1730131854045767]  \n",
      "--------------------------------------------------------------------------------\n"
     ]
    }
   ],
   "execution_count": 6
  },
  {
   "metadata": {},
   "cell_type": "markdown",
   "source": "## Grab Most Important metrics",
   "id": "55ea552f440c29b5"
  },
  {
   "metadata": {
    "ExecuteTime": {
     "end_time": "2025-04-05T10:50:04.119025Z",
     "start_time": "2025-04-05T10:50:04.099692Z"
    }
   },
   "cell_type": "code",
   "source": [
    "# Grab max sharpe ratio\n",
    "max_sharpe_ratio = simulations_df.loc[simulations_df['Sharpe Ratio'].idxmax()]\n",
    "\n",
    "# Get min volatility\n",
    "min_volatility = simulations_df.loc[simulations_df['Volatility'].idxmin()]\n",
    "\n",
    "print('')\n",
    "print('='*80)\n",
    "print('MAX SHARPE RATIO:')\n",
    "print('-'*80)\n",
    "print(max_sharpe_ratio)\n",
    "print('-'*80)\n",
    "\n",
    "print('')\n",
    "print('='*80)\n",
    "print('MIN VOLATILITY:')\n",
    "print('-'*80)\n",
    "print(min_volatility)\n",
    "print('-'*80)"
   ],
   "id": "cab1e5167d42ddca",
   "outputs": [
    {
     "name": "stdout",
     "output_type": "stream",
     "text": [
      "\n",
      "================================================================================\n",
      "MAX SHARPE RATIO:\n",
      "--------------------------------------------------------------------------------\n",
      "Returns              0.164962                                                                            \n",
      "Volatility           0.666956                                                                            \n",
      "Sharpe Ratio         0.232342                                                                            \n",
      "Portfolio Weights    [0.1065946987042659, 0.018665927565192128, 0.008883089751219795, 0.8658562839793221]\n",
      "Name: 1992, dtype: object\n",
      "--------------------------------------------------------------------------------\n",
      "\n",
      "================================================================================\n",
      "MIN VOLATILITY:\n",
      "--------------------------------------------------------------------------------\n",
      "Returns             -0.186013                                                                             \n",
      "Volatility           0.217971                                                                             \n",
      "Sharpe Ratio        -0.899261                                                                             \n",
      "Portfolio Weights    [0.31257474328451784, 0.0030071269575979134, 0.6794281569283015, 0.00498997282958288]\n",
      "Name: 370, dtype: object\n",
      "--------------------------------------------------------------------------------\n"
     ]
    }
   ],
   "execution_count": 7
  },
  {
   "metadata": {},
   "cell_type": "markdown",
   "source": "## Visualization",
   "id": "bd76c41b3dccdb33"
  },
  {
   "metadata": {
    "ExecuteTime": {
     "end_time": "2025-04-05T10:50:05.006641Z",
     "start_time": "2025-04-05T10:50:04.130022Z"
    }
   },
   "cell_type": "code",
   "source": [
    "%matplotlib inline\n",
    "import warnings\n",
    "warnings.filterwarnings(\"ignore\")\n",
    "\n",
    "# Plot the data on a Scatter plot.\n",
    "plt.scatter(\n",
    "    y=simulations_df['Returns'],\n",
    "    x=simulations_df['Volatility'],\n",
    "    c=simulations_df['Sharpe Ratio'],\n",
    "    cmap='RdYlBu'\n",
    ")\n",
    "\n",
    "# Give the Plot some labels, and titles.\n",
    "plt.title('Portfolio Returns Vs. Risk')\n",
    "plt.colorbar(label='Sharpe Ratio')\n",
    "plt.xlabel('Standard Deviation')\n",
    "plt.ylabel('Returns')\n",
    "\n",
    "# Plot the Max Sharpe Ratio, using a `Red Star`.\n",
    "plt.scatter(\n",
    "    max_sharpe_ratio[1],\n",
    "    max_sharpe_ratio[0],\n",
    "    marker=(5, 1, 0),\n",
    "    color='r',\n",
    "    s=600\n",
    ")\n",
    "\n",
    "# Plot the Min Volatility, using a `Blue Star`.\n",
    "plt.scatter(\n",
    "    min_volatility[1],\n",
    "    min_volatility[0],\n",
    "    marker=(5, 1, 0),\n",
    "    color='b',\n",
    "    s=600\n",
    ")\n",
    "\n",
    "# Finally, show the plot.\n",
    "plt.show()"
   ],
   "id": "7e5a5cac3112b14f",
   "outputs": [
    {
     "data": {
      "text/plain": [
       "<Figure size 640x480 with 2 Axes>"
      ],
      "image/png": "[encoded data removed]"
     },
     "metadata": {},
     "output_type": "display_data"
    }
   ],
   "execution_count": 8
  },
  {
   "metadata": {},
   "cell_type": "markdown",
   "source": "## Optimization",
   "id": "60340d177f2ce2f5"
  },
  {
   "metadata": {
    "ExecuteTime": {
     "end_time": "2025-04-05T10:50:05.028859Z",
     "start_time": "2025-04-05T10:50:05.012637Z"
    }
   },
   "cell_type": "code",
   "source": [
    "def get_metrics(weights: list) -> np.array:\n",
    "    \"\"\"\n",
    "    ### Overview:\n",
    "    ----\n",
    "    With a given set of weights, return the portfolio returns,\n",
    "    the portfolio volatility, and the portfolio sharpe ratio.\n",
    "    \n",
    "    ### Arguments:\n",
    "    ----\n",
    "    weights (list): An array of portfolio weights.\n",
    "    \n",
    "    ### Returns:\n",
    "    ----\n",
    "    (np.array): An array containg return value, a volatility value,\n",
    "    and a sharpe ratio.\n",
    "    \"\"\"\n",
    "    weights = np.array(weights)\n",
    "     \n",
    "    ret = np.dot(log_return.mean(), weights) * 252\n",
    "     \n",
    "    vol = np.sqrt(\n",
    "            np.dot(weights.T, np.dot(log_return.cov() * 252 , weights))\n",
    "            )\n",
    "     \n",
    "    sr = (ret - 0.02)/ vol\n",
    "     \n",
    "    return np.array([ret, vol, sr])\n",
    "\n",
    "def grab_negative_sharpe(weights: list) -> np.array:\n",
    "    \"\"\"The function used to minimize the Sharpe Ratio.\n",
    "\n",
    "    ### Arguments:\n",
    "    ----\n",
    "    weights (list): The weights, we are testing to see\n",
    "        if it's the minimum.\n",
    "\n",
    "    ### Returns:\n",
    "    ----\n",
    "    (np.array): An numpy array of the portfolio metrics.\n",
    "    \"\"\"\n",
    "    return get_metrics(weights)[2] - 1\n",
    "\n",
    "def grab_volatility(weights: list) -> np.array:\n",
    "    \"\"\"The function used to minimize the Sharpe Ratio.\n",
    "\n",
    "    ### Arguments:\n",
    "    ----\n",
    "    weights (list): The weights, we are testing to see\n",
    "        if it's the minimum.\n",
    "\n",
    "    ### Returns:\n",
    "    ----\n",
    "    (np.array): An numpy array of the portfolio metrics.\n",
    "    \"\"\"\n",
    "    return get_metrics(weights)[1]\n",
    "\n",
    "def check_sum(weights: list) -> float:\n",
    "    \"\"\"Ensure the allocations of the \"weights\", sums to 1 (100%)\n",
    "\n",
    "    ### Arguments:\n",
    "    ----\n",
    "    weights (list): The weights we want to check to see\n",
    "        if they sum to 1.\n",
    "\n",
    "    ### Returns:\n",
    "    ----\n",
    "    float: The different between 1 and the sum of the weights.\n",
    "    \"\"\"\n",
    "    return np.sum(weights) - 1"
   ],
   "id": "b38d44ed8835b884",
   "outputs": [],
   "execution_count": 9
  },
  {
   "metadata": {
    "ExecuteTime": {
     "end_time": "2025-04-05T10:50:05.096418Z",
     "start_time": "2025-04-05T10:50:05.035856Z"
    }
   },
   "cell_type": "code",
   "source": [
    "# Define bounds in our optimization process. Make sure that no asset is more than 100% of portfolio\n",
    "bounds = tuple((0, 1) for symbol in range(number_of_stocks))\n",
    "\n",
    "# Define constraints, make sure weights don't exceed 100%\n",
    "constraints = ({'type':'eq', 'fun': check_sum})\n",
    "\n",
    "init_guess = number_of_stocks * [1 / number_of_stocks]\n",
    "\n",
    "# Peform optimization process\n",
    "optimized_sharpe = opt.minimize(\n",
    "    grab_negative_sharpe, # minimize this\n",
    "    init_guess, # start with this values\n",
    "    method='SLSQP',\n",
    "    bounds=bounds,# don't exceed these bounds\n",
    "    constraints=constraints # don't exceed 100% constraints\n",
    ")\n",
    "\n",
    "# Print the results.\n",
    "print('')\n",
    "print('='*80)\n",
    "print('OPTIMIZED SHARPE RATIO:')\n",
    "print('-'*80)\n",
    "print(optimized_sharpe)\n",
    "print('-'*80)\n"
   ],
   "id": "1cdea8a094bcd219",
   "outputs": [
    {
     "name": "stdout",
     "output_type": "stream",
     "text": [
      "\n",
      "================================================================================\n",
      "OPTIMIZED SHARPE RATIO:\n",
      "--------------------------------------------------------------------------------\n",
      " message: Optimization terminated successfully\n",
      " success: True\n",
      "  status: 0\n",
      "     fun: -1.9596449395818092\n",
      "       x: [ 3.371e-01  3.590e-14  6.629e-01  8.646e-14]\n",
      "     nit: 5\n",
      "     jac: [ 9.216e-02  8.868e-01  9.217e-02  2.437e+00]\n",
      "    nfev: 25\n",
      "    njev: 5\n",
      "--------------------------------------------------------------------------------\n"
     ]
    }
   ],
   "execution_count": 10
  },
  {
   "metadata": {
    "ExecuteTime": {
     "end_time": "2025-04-05T10:50:05.121717Z",
     "start_time": "2025-04-05T10:50:05.100407Z"
    }
   },
   "cell_type": "code",
   "source": [
    "# Grab the final results\n",
    "optimized_metrics = get_metrics(weights=optimized_sharpe.x)\n",
    "\n",
    "# Print the Optimized Weights.\n",
    "print('')\n",
    "print('='*80)\n",
    "print('OPTIMIZED WEIGHTS:')\n",
    "print('-'*80)\n",
    "print(optimized_sharpe.x)\n",
    "print('-'*80)\n",
    "\n",
    "\n",
    "# Print the Optimized Metrics.\n",
    "print('')\n",
    "print('='*80)\n",
    "print('OPTIMIZED METRICS:')\n",
    "print('-'*80)\n",
    "print(optimized_metrics)\n",
    "print('-'*80)   "
   ],
   "id": "708c827299db144a",
   "outputs": [
    {
     "name": "stdout",
     "output_type": "stream",
     "text": [
      "\n",
      "================================================================================\n",
      "OPTIMIZED WEIGHTS:\n",
      "--------------------------------------------------------------------------------\n",
      "[3.37118369e-01 3.59025418e-14 6.62881631e-01 8.64613828e-14]\n",
      "--------------------------------------------------------------------------------\n",
      "\n",
      "================================================================================\n",
      "OPTIMIZED METRICS:\n",
      "--------------------------------------------------------------------------------\n",
      "[-0.1882376   0.21699443 -0.95964494]\n",
      "--------------------------------------------------------------------------------\n"
     ]
    }
   ],
   "execution_count": 11
  },
  {
   "metadata": {
    "ExecuteTime": {
     "end_time": "2025-04-05T10:50:05.221211Z",
     "start_time": "2025-04-05T10:50:05.123766Z"
    }
   },
   "cell_type": "code",
   "source": [
    "# Define bounds in our optimization process. Make sure that no asset is more than 100% of portfolio\n",
    "bounds = tuple((0, 1) for symbol in range(number_of_stocks))\n",
    "\n",
    "# Define constraints, make sure weights don't exceed 100%\n",
    "constraints = ({'type':'eq', 'fun': check_sum})\n",
    "\n",
    "init_guess = number_of_stocks * [1 / number_of_stocks]\n",
    "\n",
    "# Peform optimization process\n",
    "optimized_volatility = opt.minimize(\n",
    "    grab_volatility, # minimize this\n",
    "    init_guess, # start with this values\n",
    "    method='SLSQP',\n",
    "    bounds=bounds,# don't exceed these bounds\n",
    "    constraints=constraints # don't exceed 100% constraints\n",
    ")\n",
    "\n",
    "# Print the results.\n",
    "print('')\n",
    "print('='*80)\n",
    "print('OPTIMIZED VOLATILITY:')\n",
    "print('-'*80)\n",
    "print(optimized_volatility)\n",
    "print('-'*80)\n"
   ],
   "id": "a1f9f1747f2de4c3",
   "outputs": [
    {
     "name": "stdout",
     "output_type": "stream",
     "text": [
      "\n",
      "================================================================================\n",
      "OPTIMIZED VOLATILITY:\n",
      "--------------------------------------------------------------------------------\n",
      " message: Optimization terminated successfully\n",
      " success: True\n",
      "  status: 0\n",
      "     fun: 0.21674049884577784\n",
      "       x: [ 3.762e-01  4.424e-17  6.238e-01  0.000e+00]\n",
      "     nit: 7\n",
      "     jac: [ 2.167e-01  2.280e-01  2.168e-01  3.266e-01]\n",
      "    nfev: 35\n",
      "    njev: 7\n",
      "--------------------------------------------------------------------------------\n"
     ]
    }
   ],
   "execution_count": 12
  },
  {
   "metadata": {
    "ExecuteTime": {
     "end_time": "2025-04-05T10:50:05.247211Z",
     "start_time": "2025-04-05T10:50:05.227211Z"
    }
   },
   "cell_type": "code",
   "source": [
    "# Grab the metrics.\n",
    "optimized_metrics = get_metrics(weights=optimized_volatility.x)\n",
    "\n",
    "# Print the Optimized Weights.\n",
    "print('')\n",
    "print('='*80)\n",
    "print('OPTIMIZED WEIGHTS:')\n",
    "print('-'*80)\n",
    "print(optimized_volatility.x)\n",
    "print('-'*80)\n",
    "\n",
    "\n",
    "# Print the Optimized Metrics.\n",
    "print('')\n",
    "print('='*80)\n",
    "print('OPTIMIZED METRICS:')\n",
    "print('-'*80)\n",
    "print(optimized_metrics)\n",
    "print('-'*80)"
   ],
   "id": "415ef859ca9de2cf",
   "outputs": [
    {
     "name": "stdout",
     "output_type": "stream",
     "text": [
      "\n",
      "================================================================================\n",
      "OPTIMIZED WEIGHTS:\n",
      "--------------------------------------------------------------------------------\n",
      "[3.76170259e-01 4.42354486e-17 6.23829741e-01 0.00000000e+00]\n",
      "--------------------------------------------------------------------------------\n",
      "\n",
      "================================================================================\n",
      "OPTIMIZED METRICS:\n",
      "--------------------------------------------------------------------------------\n",
      "[-0.18775178  0.2167405  -0.95852773]\n",
      "--------------------------------------------------------------------------------\n"
     ]
    }
   ],
   "execution_count": 13
  },
  {
   "metadata": {
    "ExecuteTime": {
     "end_time": "2025-04-05T10:50:05.267318Z",
     "start_time": "2025-04-05T10:50:05.258214Z"
    }
   },
   "cell_type": "code",
   "source": "",
   "id": "baf8f1ec2d3cd108",
   "outputs": [],
   "execution_count": 13
  }
 ],
 "metadata": {
  "kernelspec": {
   "display_name": "Python 3",
   "language": "python",
   "name": "python3"
  },
  "language_info": {
   "codemirror_mode": {
    "name": "ipython",
    "version": 2
   },
   "file_extension": ".py",
   "mimetype": "text/x-python",
   "name": "python",
   "nbconvert_exporter": "python",
   "pygments_lexer": "ipython2",
   "version": "2.7.6"
  }
 },
 "nbformat": 4,
 "nbformat_minor": 5
}
